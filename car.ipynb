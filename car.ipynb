{
 "metadata": {
  "language_info": {
   "codemirror_mode": {
    "name": "ipython",
    "version": 3
   },
   "file_extension": ".py",
   "mimetype": "text/x-python",
   "name": "python",
   "nbconvert_exporter": "python",
   "pygments_lexer": "ipython3",
   "version": "3.8.5-final"
  },
  "orig_nbformat": 2,
  "kernelspec": {
   "name": "python3",
   "display_name": "Python 3.8.5 64-bit (conda)",
   "metadata": {
    "interpreter": {
     "hash": "63be7d3f06ec2a98c7cad0b447c33d1c1467ac9d6088cb33992cd6feb4706db2"
    }
   }
  }
 },
 "nbformat": 4,
 "nbformat_minor": 2,
 "cells": [
  {
   "source": [
    "## Data Investigation\n",
    "***\n",
    "\n",
    "*Procedure: install Libraries"
   ],
   "cell_type": "markdown",
   "metadata": {}
  },
  {
   "source": [
    "\n",
    "# Importing the pandas library\n",
    "# \n",
    "import pandas as pd\n",
    "\n",
    "# Importing the numpy library\n",
    "#\n",
    "import numpy as np"
   ],
   "cell_type": "code",
   "metadata": {},
   "execution_count": 14,
   "outputs": []
  },
  {
   "source": [
    "## Reading the data set from our csv.\n",
    "***\n",
    " \n",
    "*The dataset we will use contains information about hiring electric cars.\n",
    "*Data was extracted from opendataparis.com, where the Autolib availability information was\n",
    "available in real-time.\n"
   ],
   "cell_type": "markdown",
   "metadata": {}
  },
  {
   "cell_type": "code",
   "execution_count": 4,
   "metadata": {},
   "outputs": [
    {
     "output_type": "execute_result",
     "data": {
      "text/plain": [
       "                              Address  Cars  Bluecar counter  Utilib counter  \\\n",
       "0                 2 Avenue de Suffren     0                0               0   \n",
       "1           145 Rue Raymond Losserand     6                6               0   \n",
       "2    2 Avenue John Fitzgerald Kennedy     3                3               0   \n",
       "3              51 Rue EugÃ¨ne OudinÃ©     3                3               1   \n",
       "4  6 avenue de la Porte de Champerret     3                3               0   \n",
       "\n",
       "   Utilib 1.4 counter  Charge Slots Charging Status        City  \\\n",
       "0                   0             0     nonexistent       Paris   \n",
       "1                   0             0     operational       Paris   \n",
       "2                   2             0     operational  Le Bourget   \n",
       "3                   0             1     operational       Paris   \n",
       "4                   0             0     nonexistent       Paris   \n",
       "\n",
       "  Displayed comment                                 ID  ... Scheduled at  \\\n",
       "0               NaN                    paris-suffren-2  ...          NaN   \n",
       "1               NaN         paris-raymondlosserand-145  ...          NaN   \n",
       "2               NaN  lebourget-johnfitzgeraldkennedy-2  ...          NaN   \n",
       "3               NaN              paris-eugeneoudine-51  ...          NaN   \n",
       "4               NaN          paris-portedechamperret-6  ...          NaN   \n",
       "\n",
       "  Slots  Station type Status Subscription status  year  month day hour minute  \n",
       "0     2       station     ok         nonexistent  2018      4   8   11     43  \n",
       "1     0       station     ok         nonexistent  2018      4   6    7     24  \n",
       "2     1       station     ok         nonexistent  2018      4   3   20     14  \n",
       "3     2       station     ok         nonexistent  2018      4   4    4     37  \n",
       "4     3       station     ok         nonexistent  2018      4   8   17     23  \n",
       "\n",
       "[5 rows x 25 columns]"
      ],
      "text/html": "<div>\n<style scoped>\n    .dataframe tbody tr th:only-of-type {\n        vertical-align: middle;\n    }\n\n    .dataframe tbody tr th {\n        vertical-align: top;\n    }\n\n    .dataframe thead th {\n        text-align: right;\n    }\n</style>\n<table border=\"1\" class=\"dataframe\">\n  <thead>\n    <tr style=\"text-align: right;\">\n      <th></th>\n      <th>Address</th>\n      <th>Cars</th>\n      <th>Bluecar counter</th>\n      <th>Utilib counter</th>\n      <th>Utilib 1.4 counter</th>\n      <th>Charge Slots</th>\n      <th>Charging Status</th>\n      <th>City</th>\n      <th>Displayed comment</th>\n      <th>ID</th>\n      <th>...</th>\n      <th>Scheduled at</th>\n      <th>Slots</th>\n      <th>Station type</th>\n      <th>Status</th>\n      <th>Subscription status</th>\n      <th>year</th>\n      <th>month</th>\n      <th>day</th>\n      <th>hour</th>\n      <th>minute</th>\n    </tr>\n  </thead>\n  <tbody>\n    <tr>\n      <th>0</th>\n      <td>2 Avenue de Suffren</td>\n      <td>0</td>\n      <td>0</td>\n      <td>0</td>\n      <td>0</td>\n      <td>0</td>\n      <td>nonexistent</td>\n      <td>Paris</td>\n      <td>NaN</td>\n      <td>paris-suffren-2</td>\n      <td>...</td>\n      <td>NaN</td>\n      <td>2</td>\n      <td>station</td>\n      <td>ok</td>\n      <td>nonexistent</td>\n      <td>2018</td>\n      <td>4</td>\n      <td>8</td>\n      <td>11</td>\n      <td>43</td>\n    </tr>\n    <tr>\n      <th>1</th>\n      <td>145 Rue Raymond Losserand</td>\n      <td>6</td>\n      <td>6</td>\n      <td>0</td>\n      <td>0</td>\n      <td>0</td>\n      <td>operational</td>\n      <td>Paris</td>\n      <td>NaN</td>\n      <td>paris-raymondlosserand-145</td>\n      <td>...</td>\n      <td>NaN</td>\n      <td>0</td>\n      <td>station</td>\n      <td>ok</td>\n      <td>nonexistent</td>\n      <td>2018</td>\n      <td>4</td>\n      <td>6</td>\n      <td>7</td>\n      <td>24</td>\n    </tr>\n    <tr>\n      <th>2</th>\n      <td>2 Avenue John Fitzgerald Kennedy</td>\n      <td>3</td>\n      <td>3</td>\n      <td>0</td>\n      <td>2</td>\n      <td>0</td>\n      <td>operational</td>\n      <td>Le Bourget</td>\n      <td>NaN</td>\n      <td>lebourget-johnfitzgeraldkennedy-2</td>\n      <td>...</td>\n      <td>NaN</td>\n      <td>1</td>\n      <td>station</td>\n      <td>ok</td>\n      <td>nonexistent</td>\n      <td>2018</td>\n      <td>4</td>\n      <td>3</td>\n      <td>20</td>\n      <td>14</td>\n    </tr>\n    <tr>\n      <th>3</th>\n      <td>51 Rue EugÃ¨ne OudinÃ©</td>\n      <td>3</td>\n      <td>3</td>\n      <td>1</td>\n      <td>0</td>\n      <td>1</td>\n      <td>operational</td>\n      <td>Paris</td>\n      <td>NaN</td>\n      <td>paris-eugeneoudine-51</td>\n      <td>...</td>\n      <td>NaN</td>\n      <td>2</td>\n      <td>station</td>\n      <td>ok</td>\n      <td>nonexistent</td>\n      <td>2018</td>\n      <td>4</td>\n      <td>4</td>\n      <td>4</td>\n      <td>37</td>\n    </tr>\n    <tr>\n      <th>4</th>\n      <td>6 avenue de la Porte de Champerret</td>\n      <td>3</td>\n      <td>3</td>\n      <td>0</td>\n      <td>0</td>\n      <td>0</td>\n      <td>nonexistent</td>\n      <td>Paris</td>\n      <td>NaN</td>\n      <td>paris-portedechamperret-6</td>\n      <td>...</td>\n      <td>NaN</td>\n      <td>3</td>\n      <td>station</td>\n      <td>ok</td>\n      <td>nonexistent</td>\n      <td>2018</td>\n      <td>4</td>\n      <td>8</td>\n      <td>17</td>\n      <td>23</td>\n    </tr>\n  </tbody>\n</table>\n<p>5 rows × 25 columns</p>\n</div>"
     },
     "metadata": {},
     "execution_count": 4
    }
   ],
   "source": [
    "# We will also preview the data in this step\n",
    "\n",
    "ecars = pd.read_csv('Data/projectcars.csv', sep =',', encoding= 'utf8')\n",
    "ecars.head(5)"
   ]
  },
  {
   "cell_type": "code",
   "execution_count": 5,
   "metadata": {},
   "outputs": [
    {
     "output_type": "stream",
     "name": "stdout",
     "text": [
      "<class 'pandas.core.frame.DataFrame'>\nRangeIndex: 5000 entries, 0 to 4999\nData columns (total 25 columns):\n #   Column               Non-Null Count  Dtype \n---  ------               --------------  ----- \n 0   Address              5000 non-null   object\n 1   Cars                 5000 non-null   int64 \n 2   Bluecar counter      5000 non-null   int64 \n 3   Utilib counter       5000 non-null   int64 \n 4   Utilib 1.4 counter   5000 non-null   int64 \n 5   Charge Slots         5000 non-null   int64 \n 6   Charging Status      5000 non-null   object\n 7   City                 5000 non-null   object\n 8   Displayed comment    111 non-null    object\n 9   ID                   5000 non-null   object\n 10  Kind                 5000 non-null   object\n 11  Geo point            5000 non-null   object\n 12  Postal code          5000 non-null   int64 \n 13  Public name          5000 non-null   object\n 14  Rental status        5000 non-null   object\n 15  Scheduled at         47 non-null     object\n 16  Slots                5000 non-null   int64 \n 17  Station type         5000 non-null   object\n 18  Status               5000 non-null   object\n 19  Subscription status  5000 non-null   object\n 20  year                 5000 non-null   int64 \n 21  month                5000 non-null   int64 \n 22  day                  5000 non-null   int64 \n 23  hour                 5000 non-null   int64 \n 24  minute               5000 non-null   int64 \ndtypes: int64(12), object(13)\nmemory usage: 976.7+ KB\n"
     ]
    }
   ],
   "source": [
    "# Accessing our data frame info.\n",
    "\n",
    "ecars.info()"
   ]
  },
  {
   "source": [
    "## 1. Validation of our data\n",
    "***\n",
    "*Procedure (i): Drop Irrelevant columns"
   ],
   "cell_type": "markdown",
   "metadata": {}
  },
  {
   "cell_type": "code",
   "execution_count": 6,
   "metadata": {},
   "outputs": [
    {
     "output_type": "execute_result",
     "data": {
      "text/plain": [
       "   Cars  Bluecar counter  Utilib counter  Utilib 1.4 counter  Charge Slots  \\\n",
       "0     0                0               0                   0             0   \n",
       "1     6                6               0                   0             0   \n",
       "2     3                3               0                   2             0   \n",
       "3     3                3               1                   0             1   \n",
       "4     3                3               0                   0             0   \n",
       "\n",
       "  Charging Status        City                                 ID     Kind  \\\n",
       "0     nonexistent       Paris                    paris-suffren-2  STATION   \n",
       "1     operational       Paris         paris-raymondlosserand-145  STATION   \n",
       "2     operational  Le Bourget  lebourget-johnfitzgeraldkennedy-2  STATION   \n",
       "3     operational       Paris              paris-eugeneoudine-51  STATION   \n",
       "4     nonexistent       Paris          paris-portedechamperret-6  PARKING   \n",
       "\n",
       "   Postal code Rental status  Slots Station type Status Subscription status  \\\n",
       "0        75015   operational      2      station     ok         nonexistent   \n",
       "1        75014   operational      0      station     ok         nonexistent   \n",
       "2        93350   operational      1      station     ok         nonexistent   \n",
       "3        75013   operational      2      station     ok         nonexistent   \n",
       "4        75017   operational      3      station     ok         nonexistent   \n",
       "\n",
       "   day  hour  minute  \n",
       "0    8    11      43  \n",
       "1    6     7      24  \n",
       "2    3    20      14  \n",
       "3    4     4      37  \n",
       "4    8    17      23  "
      ],
      "text/html": "<div>\n<style scoped>\n    .dataframe tbody tr th:only-of-type {\n        vertical-align: middle;\n    }\n\n    .dataframe tbody tr th {\n        vertical-align: top;\n    }\n\n    .dataframe thead th {\n        text-align: right;\n    }\n</style>\n<table border=\"1\" class=\"dataframe\">\n  <thead>\n    <tr style=\"text-align: right;\">\n      <th></th>\n      <th>Cars</th>\n      <th>Bluecar counter</th>\n      <th>Utilib counter</th>\n      <th>Utilib 1.4 counter</th>\n      <th>Charge Slots</th>\n      <th>Charging Status</th>\n      <th>City</th>\n      <th>ID</th>\n      <th>Kind</th>\n      <th>Postal code</th>\n      <th>Rental status</th>\n      <th>Slots</th>\n      <th>Station type</th>\n      <th>Status</th>\n      <th>Subscription status</th>\n      <th>day</th>\n      <th>hour</th>\n      <th>minute</th>\n    </tr>\n  </thead>\n  <tbody>\n    <tr>\n      <th>0</th>\n      <td>0</td>\n      <td>0</td>\n      <td>0</td>\n      <td>0</td>\n      <td>0</td>\n      <td>nonexistent</td>\n      <td>Paris</td>\n      <td>paris-suffren-2</td>\n      <td>STATION</td>\n      <td>75015</td>\n      <td>operational</td>\n      <td>2</td>\n      <td>station</td>\n      <td>ok</td>\n      <td>nonexistent</td>\n      <td>8</td>\n      <td>11</td>\n      <td>43</td>\n    </tr>\n    <tr>\n      <th>1</th>\n      <td>6</td>\n      <td>6</td>\n      <td>0</td>\n      <td>0</td>\n      <td>0</td>\n      <td>operational</td>\n      <td>Paris</td>\n      <td>paris-raymondlosserand-145</td>\n      <td>STATION</td>\n      <td>75014</td>\n      <td>operational</td>\n      <td>0</td>\n      <td>station</td>\n      <td>ok</td>\n      <td>nonexistent</td>\n      <td>6</td>\n      <td>7</td>\n      <td>24</td>\n    </tr>\n    <tr>\n      <th>2</th>\n      <td>3</td>\n      <td>3</td>\n      <td>0</td>\n      <td>2</td>\n      <td>0</td>\n      <td>operational</td>\n      <td>Le Bourget</td>\n      <td>lebourget-johnfitzgeraldkennedy-2</td>\n      <td>STATION</td>\n      <td>93350</td>\n      <td>operational</td>\n      <td>1</td>\n      <td>station</td>\n      <td>ok</td>\n      <td>nonexistent</td>\n      <td>3</td>\n      <td>20</td>\n      <td>14</td>\n    </tr>\n    <tr>\n      <th>3</th>\n      <td>3</td>\n      <td>3</td>\n      <td>1</td>\n      <td>0</td>\n      <td>1</td>\n      <td>operational</td>\n      <td>Paris</td>\n      <td>paris-eugeneoudine-51</td>\n      <td>STATION</td>\n      <td>75013</td>\n      <td>operational</td>\n      <td>2</td>\n      <td>station</td>\n      <td>ok</td>\n      <td>nonexistent</td>\n      <td>4</td>\n      <td>4</td>\n      <td>37</td>\n    </tr>\n    <tr>\n      <th>4</th>\n      <td>3</td>\n      <td>3</td>\n      <td>0</td>\n      <td>0</td>\n      <td>0</td>\n      <td>nonexistent</td>\n      <td>Paris</td>\n      <td>paris-portedechamperret-6</td>\n      <td>PARKING</td>\n      <td>75017</td>\n      <td>operational</td>\n      <td>3</td>\n      <td>station</td>\n      <td>ok</td>\n      <td>nonexistent</td>\n      <td>8</td>\n      <td>17</td>\n      <td>23</td>\n    </tr>\n  </tbody>\n</table>\n</div>"
     },
     "metadata": {},
     "execution_count": 6
    }
   ],
   "source": [
    "#  we will get rid of irrelevant columns as observed from our data description document.\n",
    "# The columns to drop are address scheduled at geo point displayed comment and public name.\n",
    "columns = ['Address','Geo point','Displayed comment','Public name','year','month','Scheduled at']\n",
    "\n",
    "ecars.drop(columns, axis=1, inplace=True)\n",
    "\n",
    "ecars.head()\n"
   ]
  },
  {
   "source": [
    "*Procedure (ii): *\n",
    "*Fix spaces in columns*\n",
    ",*Check Column names.*\n",
    "*Fix typos.*"
   ],
   "cell_type": "markdown",
   "metadata": {}
  },
  {
   "cell_type": "code",
   "execution_count": 8,
   "metadata": {},
   "outputs": [
    {
     "output_type": "execute_result",
     "data": {
      "text/plain": [
       "0                         paris-suffren-2\n",
       "1              paris-raymondlosserand-145\n",
       "2       lebourget-johnfitzgeraldkennedy-2\n",
       "3                   paris-eugeneoudine-51\n",
       "4               paris-portedechamperret-6\n",
       "                      ...                \n",
       "4995                 colombes-menelotte-8\n",
       "4996                     paris-dantzig-37\n",
       "4997                        paris-bac-142\n",
       "4998     fontenaysousbois-valdefontenay-2\n",
       "4999                 paris-henrybrisson-5\n",
       "Name: ID, Length: 5000, dtype: object"
      ]
     },
     "metadata": {},
     "execution_count": 8
    }
   ],
   "source": [
    "#  Removing white spaces\n",
    "# df2['employee_id'] = df2['employee_id'].str.strip()\n",
    "#  do for city and ID\n",
    "ecars['ID'] = ecars['ID'].str.replace(\" \",\"\")\n",
    "ecars.ID"
   ]
  },
  {
   "cell_type": "code",
   "execution_count": 9,
   "metadata": {},
   "outputs": [
    {
     "output_type": "execute_result",
     "data": {
      "text/plain": [
       "Index(['Cars', 'Bluecar counter', 'Utilib counter', 'Utilib 1.4 counter',\n",
       "       'Charge Slots', 'Charging Status', 'City', 'ID', 'Kind', 'Postal code',\n",
       "       'Rental status', 'Slots', 'Station type', 'Status',\n",
       "       'Subscription status', 'day', 'hour', 'minute'],\n",
       "      dtype='object')"
      ]
     },
     "metadata": {},
     "execution_count": 9
    }
   ],
   "source": [
    "# Checkinng our column names\n",
    "# No action was taken on the fix typos step since the data set is large.\n",
    "# And there are no fixed values to counter check.\n",
    "\n",
    "ecars.columns"
   ]
  },
  {
   "source": [
    "## 2. Accuracy\n",
    "***"
   ],
   "cell_type": "markdown",
   "metadata": {}
  },
  {
   "cell_type": "code",
   "execution_count": 10,
   "metadata": {},
   "outputs": [
    {
     "output_type": "execute_result",
     "data": {
      "text/plain": [
       "True"
      ]
     },
     "metadata": {},
     "execution_count": 10
    }
   ],
   "source": [
    "# Compare columns with car and bluecar\n",
    "#  df['col_1'].equals(df['col_2'])\n",
    "# \n",
    "ecars['Cars'].equals(ecars['Bluecar counter'])"
   ]
  },
  {
   "cell_type": "code",
   "execution_count": 11,
   "metadata": {},
   "outputs": [
    {
     "output_type": "execute_result",
     "data": {
      "text/plain": [
       "Index(['Bluecar counter', 'Utilib counter', 'Utilib 1.4 counter',\n",
       "       'Charge Slots', 'Charging Status', 'City', 'ID', 'Kind', 'Postal code',\n",
       "       'Rental status', 'Slots', 'Station type', 'Status',\n",
       "       'Subscription status', 'day', 'hour', 'minute'],\n",
       "      dtype='object')"
      ]
     },
     "metadata": {},
     "execution_count": 11
    }
   ],
   "source": [
    "# The data in both columns is accurate so we can drop the column.\n",
    "# df.drop(columns=['B', 'C'])\n",
    "\n",
    "ecars.drop(columns=['Cars'], axis=1,inplace=True)\n",
    "ecars.columns"
   ]
  },
  {
   "source": [
    "# In considerations to accuracy the Public name column was dropped\n",
    "# Since it contains data that has poor quality and it matches with ID which has all characters present."
   ],
   "cell_type": "code",
   "metadata": {},
   "execution_count": null,
   "outputs": []
  },
  {
   "source": [
    "## 3.Completeness\n",
    "***\n",
    "*Check for null values"
   ],
   "cell_type": "markdown",
   "metadata": {}
  },
  {
   "cell_type": "code",
   "execution_count": 12,
   "metadata": {},
   "outputs": [
    {
     "output_type": "stream",
     "name": "stdout",
     "text": [
      "False\n"
     ]
    }
   ],
   "source": [
    "# We can do a quick check to see if we have any missing values at all\n",
    "# It gives false as the answer hence no missing values.\n",
    "print(ecars.isnull().values.any())\n"
   ]
  },
  {
   "source": [
    "# Checking for outliers"
   ],
   "cell_type": "markdown",
   "metadata": {}
  },
  {
   "cell_type": "code",
   "execution_count": 17,
   "metadata": {},
   "outputs": [],
   "source": [
    "# Importing the libraries\n",
    "\n",
    "import matplotlib.pyplot as plt \n",
    "%matplotlib inline "
   ]
  },
  {
   "cell_type": "code",
   "execution_count": 18,
   "metadata": {},
   "outputs": [
    {
     "output_type": "execute_result",
     "data": {
      "text/plain": [
       "<AxesSubplot:title={'center':'Bluecar counter'}, xlabel='day'>"
      ]
     },
     "metadata": {},
     "execution_count": 18
    },
    {
     "output_type": "display_data",
     "data": {
      "text/plain": "<Figure size 432x288 with 1 Axes>",
      "image/svg+xml": "<?xml version=\"1.0\" encoding=\"utf-8\" standalone=\"no\"?>\r\n<!DOCTYPE svg PUBLIC \"-//W3C//DTD SVG 1.1//EN\"\r\n  \"http://www.w3.org/Graphics/SVG/1.1/DTD/svg11.dtd\">\r\n<!-- Created with matplotlib (https://matplotlib.org/) -->\r\n<svg height=\"283.79625pt\" version=\"1.1\" viewBox=\"0 0 373.3625 283.79625\" width=\"373.3625pt\" xmlns=\"http://www.w3.org/2000/svg\" xmlns:xlink=\"http://www.w3.org/1999/xlink\">\r\n <metadata>\r\n  <rdf:RDF xmlns:cc=\"http://creativecommons.org/ns#\" xmlns:dc=\"http://purl.org/dc/elements/1.1/\" xmlns:rdf=\"http://www.w3.org/1999/02/22-rdf-syntax-ns#\">\r\n   <cc:Work>\r\n    <dc:type rdf:resource=\"http://purl.org/dc/dcmitype/StillImage\"/>\r\n    <dc:date>2021-02-12T15:09:12.411555</dc:date>\r\n    <dc:format>image/svg+xml</dc:format>\r\n    <dc:creator>\r\n     <cc:Agent>\r\n      <dc:title>Matplotlib v3.3.2, https://matplotlib.org/</dc:title>\r\n     </cc:Agent>\r\n    </dc:creator>\r\n   </cc:Work>\r\n  </rdf:RDF>\r\n </metadata>\r\n <defs>\r\n  <style type=\"text/css\">*{stroke-linecap:butt;stroke-linejoin:round;}</style>\r\n </defs>\r\n <g id=\"figure_1\">\r\n  <g id=\"patch_1\">\r\n   <path d=\"M 0 283.79625 \r\nL 373.3625 283.79625 \r\nL 373.3625 0 \r\nL 0 0 \r\nz\r\n\" style=\"fill:none;\"/>\r\n  </g>\r\n  <g id=\"axes_1\">\r\n   <g id=\"patch_2\">\r\n    <path d=\"M 20.5625 246.24 \r\nL 366.1625 246.24 \r\nL 366.1625 30.24 \r\nL 20.5625 30.24 \r\nz\r\n\" style=\"fill:#ffffff;\"/>\r\n   </g>\r\n   <g id=\"matplotlib.axis_1\">\r\n    <g id=\"xtick_1\">\r\n     <g id=\"line2d_1\">\r\n      <defs>\r\n       <path d=\"M 0 0 \r\nL 0 3.5 \r\n\" id=\"m0321198ff4\" style=\"stroke:#000000;stroke-width:0.8;\"/>\r\n      </defs>\r\n      <g>\r\n       <use style=\"stroke:#000000;stroke-width:0.8;\" x=\"39.7625\" xlink:href=\"#m0321198ff4\" y=\"246.24\"/>\r\n      </g>\r\n     </g>\r\n     <g id=\"text_1\">\r\n      <!-- 1 -->\r\n      <g transform=\"translate(36.58125 260.838437)scale(0.1 -0.1)\">\r\n       <defs>\r\n        <path d=\"M 12.40625 8.296875 \r\nL 28.515625 8.296875 \r\nL 28.515625 63.921875 \r\nL 10.984375 60.40625 \r\nL 10.984375 69.390625 \r\nL 28.421875 72.90625 \r\nL 38.28125 72.90625 \r\nL 38.28125 8.296875 \r\nL 54.390625 8.296875 \r\nL 54.390625 0 \r\nL 12.40625 0 \r\nz\r\n\" id=\"DejaVuSans-49\"/>\r\n       </defs>\r\n       <use xlink:href=\"#DejaVuSans-49\"/>\r\n      </g>\r\n     </g>\r\n    </g>\r\n    <g id=\"xtick_2\">\r\n     <g id=\"line2d_2\">\r\n      <g>\r\n       <use style=\"stroke:#000000;stroke-width:0.8;\" x=\"78.1625\" xlink:href=\"#m0321198ff4\" y=\"246.24\"/>\r\n      </g>\r\n     </g>\r\n     <g id=\"text_2\">\r\n      <!-- 2 -->\r\n      <g transform=\"translate(74.98125 260.838437)scale(0.1 -0.1)\">\r\n       <defs>\r\n        <path d=\"M 19.1875 8.296875 \r\nL 53.609375 8.296875 \r\nL 53.609375 0 \r\nL 7.328125 0 \r\nL 7.328125 8.296875 \r\nQ 12.9375 14.109375 22.625 23.890625 \r\nQ 32.328125 33.6875 34.8125 36.53125 \r\nQ 39.546875 41.84375 41.421875 45.53125 \r\nQ 43.3125 49.21875 43.3125 52.78125 \r\nQ 43.3125 58.59375 39.234375 62.25 \r\nQ 35.15625 65.921875 28.609375 65.921875 \r\nQ 23.96875 65.921875 18.8125 64.3125 \r\nQ 13.671875 62.703125 7.8125 59.421875 \r\nL 7.8125 69.390625 \r\nQ 13.765625 71.78125 18.9375 73 \r\nQ 24.125 74.21875 28.421875 74.21875 \r\nQ 39.75 74.21875 46.484375 68.546875 \r\nQ 53.21875 62.890625 53.21875 53.421875 \r\nQ 53.21875 48.921875 51.53125 44.890625 \r\nQ 49.859375 40.875 45.40625 35.40625 \r\nQ 44.1875 33.984375 37.640625 27.21875 \r\nQ 31.109375 20.453125 19.1875 8.296875 \r\nz\r\n\" id=\"DejaVuSans-50\"/>\r\n       </defs>\r\n       <use xlink:href=\"#DejaVuSans-50\"/>\r\n      </g>\r\n     </g>\r\n    </g>\r\n    <g id=\"xtick_3\">\r\n     <g id=\"line2d_3\">\r\n      <g>\r\n       <use style=\"stroke:#000000;stroke-width:0.8;\" x=\"116.5625\" xlink:href=\"#m0321198ff4\" y=\"246.24\"/>\r\n      </g>\r\n     </g>\r\n     <g id=\"text_3\">\r\n      <!-- 3 -->\r\n      <g transform=\"translate(113.38125 260.838437)scale(0.1 -0.1)\">\r\n       <defs>\r\n        <path d=\"M 40.578125 39.3125 \r\nQ 47.65625 37.796875 51.625 33 \r\nQ 55.609375 28.21875 55.609375 21.1875 \r\nQ 55.609375 10.40625 48.1875 4.484375 \r\nQ 40.765625 -1.421875 27.09375 -1.421875 \r\nQ 22.515625 -1.421875 17.65625 -0.515625 \r\nQ 12.796875 0.390625 7.625 2.203125 \r\nL 7.625 11.71875 \r\nQ 11.71875 9.328125 16.59375 8.109375 \r\nQ 21.484375 6.890625 26.8125 6.890625 \r\nQ 36.078125 6.890625 40.9375 10.546875 \r\nQ 45.796875 14.203125 45.796875 21.1875 \r\nQ 45.796875 27.640625 41.28125 31.265625 \r\nQ 36.765625 34.90625 28.71875 34.90625 \r\nL 20.21875 34.90625 \r\nL 20.21875 43.015625 \r\nL 29.109375 43.015625 \r\nQ 36.375 43.015625 40.234375 45.921875 \r\nQ 44.09375 48.828125 44.09375 54.296875 \r\nQ 44.09375 59.90625 40.109375 62.90625 \r\nQ 36.140625 65.921875 28.71875 65.921875 \r\nQ 24.65625 65.921875 20.015625 65.03125 \r\nQ 15.375 64.15625 9.8125 62.3125 \r\nL 9.8125 71.09375 \r\nQ 15.4375 72.65625 20.34375 73.4375 \r\nQ 25.25 74.21875 29.59375 74.21875 \r\nQ 40.828125 74.21875 47.359375 69.109375 \r\nQ 53.90625 64.015625 53.90625 55.328125 \r\nQ 53.90625 49.265625 50.4375 45.09375 \r\nQ 46.96875 40.921875 40.578125 39.3125 \r\nz\r\n\" id=\"DejaVuSans-51\"/>\r\n       </defs>\r\n       <use xlink:href=\"#DejaVuSans-51\"/>\r\n      </g>\r\n     </g>\r\n    </g>\r\n    <g id=\"xtick_4\">\r\n     <g id=\"line2d_4\">\r\n      <g>\r\n       <use style=\"stroke:#000000;stroke-width:0.8;\" x=\"154.9625\" xlink:href=\"#m0321198ff4\" y=\"246.24\"/>\r\n      </g>\r\n     </g>\r\n     <g id=\"text_4\">\r\n      <!-- 4 -->\r\n      <g transform=\"translate(151.78125 260.838437)scale(0.1 -0.1)\">\r\n       <defs>\r\n        <path d=\"M 37.796875 64.3125 \r\nL 12.890625 25.390625 \r\nL 37.796875 25.390625 \r\nz\r\nM 35.203125 72.90625 \r\nL 47.609375 72.90625 \r\nL 47.609375 25.390625 \r\nL 58.015625 25.390625 \r\nL 58.015625 17.1875 \r\nL 47.609375 17.1875 \r\nL 47.609375 0 \r\nL 37.796875 0 \r\nL 37.796875 17.1875 \r\nL 4.890625 17.1875 \r\nL 4.890625 26.703125 \r\nz\r\n\" id=\"DejaVuSans-52\"/>\r\n       </defs>\r\n       <use xlink:href=\"#DejaVuSans-52\"/>\r\n      </g>\r\n     </g>\r\n    </g>\r\n    <g id=\"xtick_5\">\r\n     <g id=\"line2d_5\">\r\n      <g>\r\n       <use style=\"stroke:#000000;stroke-width:0.8;\" x=\"193.3625\" xlink:href=\"#m0321198ff4\" y=\"246.24\"/>\r\n      </g>\r\n     </g>\r\n     <g id=\"text_5\">\r\n      <!-- 5 -->\r\n      <g transform=\"translate(190.18125 260.838437)scale(0.1 -0.1)\">\r\n       <defs>\r\n        <path d=\"M 10.796875 72.90625 \r\nL 49.515625 72.90625 \r\nL 49.515625 64.59375 \r\nL 19.828125 64.59375 \r\nL 19.828125 46.734375 \r\nQ 21.96875 47.46875 24.109375 47.828125 \r\nQ 26.265625 48.1875 28.421875 48.1875 \r\nQ 40.625 48.1875 47.75 41.5 \r\nQ 54.890625 34.8125 54.890625 23.390625 \r\nQ 54.890625 11.625 47.5625 5.09375 \r\nQ 40.234375 -1.421875 26.90625 -1.421875 \r\nQ 22.3125 -1.421875 17.546875 -0.640625 \r\nQ 12.796875 0.140625 7.71875 1.703125 \r\nL 7.71875 11.625 \r\nQ 12.109375 9.234375 16.796875 8.0625 \r\nQ 21.484375 6.890625 26.703125 6.890625 \r\nQ 35.15625 6.890625 40.078125 11.328125 \r\nQ 45.015625 15.765625 45.015625 23.390625 \r\nQ 45.015625 31 40.078125 35.4375 \r\nQ 35.15625 39.890625 26.703125 39.890625 \r\nQ 22.75 39.890625 18.8125 39.015625 \r\nQ 14.890625 38.140625 10.796875 36.28125 \r\nz\r\n\" id=\"DejaVuSans-53\"/>\r\n       </defs>\r\n       <use xlink:href=\"#DejaVuSans-53\"/>\r\n      </g>\r\n     </g>\r\n    </g>\r\n    <g id=\"xtick_6\">\r\n     <g id=\"line2d_6\">\r\n      <g>\r\n       <use style=\"stroke:#000000;stroke-width:0.8;\" x=\"231.7625\" xlink:href=\"#m0321198ff4\" y=\"246.24\"/>\r\n      </g>\r\n     </g>\r\n     <g id=\"text_6\">\r\n      <!-- 6 -->\r\n      <g transform=\"translate(228.58125 260.838437)scale(0.1 -0.1)\">\r\n       <defs>\r\n        <path d=\"M 33.015625 40.375 \r\nQ 26.375 40.375 22.484375 35.828125 \r\nQ 18.609375 31.296875 18.609375 23.390625 \r\nQ 18.609375 15.53125 22.484375 10.953125 \r\nQ 26.375 6.390625 33.015625 6.390625 \r\nQ 39.65625 6.390625 43.53125 10.953125 \r\nQ 47.40625 15.53125 47.40625 23.390625 \r\nQ 47.40625 31.296875 43.53125 35.828125 \r\nQ 39.65625 40.375 33.015625 40.375 \r\nz\r\nM 52.59375 71.296875 \r\nL 52.59375 62.3125 \r\nQ 48.875 64.0625 45.09375 64.984375 \r\nQ 41.3125 65.921875 37.59375 65.921875 \r\nQ 27.828125 65.921875 22.671875 59.328125 \r\nQ 17.53125 52.734375 16.796875 39.40625 \r\nQ 19.671875 43.65625 24.015625 45.921875 \r\nQ 28.375 48.1875 33.59375 48.1875 \r\nQ 44.578125 48.1875 50.953125 41.515625 \r\nQ 57.328125 34.859375 57.328125 23.390625 \r\nQ 57.328125 12.15625 50.6875 5.359375 \r\nQ 44.046875 -1.421875 33.015625 -1.421875 \r\nQ 20.359375 -1.421875 13.671875 8.265625 \r\nQ 6.984375 17.96875 6.984375 36.375 \r\nQ 6.984375 53.65625 15.1875 63.9375 \r\nQ 23.390625 74.21875 37.203125 74.21875 \r\nQ 40.921875 74.21875 44.703125 73.484375 \r\nQ 48.484375 72.75 52.59375 71.296875 \r\nz\r\n\" id=\"DejaVuSans-54\"/>\r\n       </defs>\r\n       <use xlink:href=\"#DejaVuSans-54\"/>\r\n      </g>\r\n     </g>\r\n    </g>\r\n    <g id=\"xtick_7\">\r\n     <g id=\"line2d_7\">\r\n      <g>\r\n       <use style=\"stroke:#000000;stroke-width:0.8;\" x=\"270.1625\" xlink:href=\"#m0321198ff4\" y=\"246.24\"/>\r\n      </g>\r\n     </g>\r\n     <g id=\"text_7\">\r\n      <!-- 7 -->\r\n      <g transform=\"translate(266.98125 260.838437)scale(0.1 -0.1)\">\r\n       <defs>\r\n        <path d=\"M 8.203125 72.90625 \r\nL 55.078125 72.90625 \r\nL 55.078125 68.703125 \r\nL 28.609375 0 \r\nL 18.3125 0 \r\nL 43.21875 64.59375 \r\nL 8.203125 64.59375 \r\nz\r\n\" id=\"DejaVuSans-55\"/>\r\n       </defs>\r\n       <use xlink:href=\"#DejaVuSans-55\"/>\r\n      </g>\r\n     </g>\r\n    </g>\r\n    <g id=\"xtick_8\">\r\n     <g id=\"line2d_8\">\r\n      <g>\r\n       <use style=\"stroke:#000000;stroke-width:0.8;\" x=\"308.5625\" xlink:href=\"#m0321198ff4\" y=\"246.24\"/>\r\n      </g>\r\n     </g>\r\n     <g id=\"text_8\">\r\n      <!-- 8 -->\r\n      <g transform=\"translate(305.38125 260.838437)scale(0.1 -0.1)\">\r\n       <defs>\r\n        <path d=\"M 31.78125 34.625 \r\nQ 24.75 34.625 20.71875 30.859375 \r\nQ 16.703125 27.09375 16.703125 20.515625 \r\nQ 16.703125 13.921875 20.71875 10.15625 \r\nQ 24.75 6.390625 31.78125 6.390625 \r\nQ 38.8125 6.390625 42.859375 10.171875 \r\nQ 46.921875 13.96875 46.921875 20.515625 \r\nQ 46.921875 27.09375 42.890625 30.859375 \r\nQ 38.875 34.625 31.78125 34.625 \r\nz\r\nM 21.921875 38.8125 \r\nQ 15.578125 40.375 12.03125 44.71875 \r\nQ 8.5 49.078125 8.5 55.328125 \r\nQ 8.5 64.0625 14.71875 69.140625 \r\nQ 20.953125 74.21875 31.78125 74.21875 \r\nQ 42.671875 74.21875 48.875 69.140625 \r\nQ 55.078125 64.0625 55.078125 55.328125 \r\nQ 55.078125 49.078125 51.53125 44.71875 \r\nQ 48 40.375 41.703125 38.8125 \r\nQ 48.828125 37.15625 52.796875 32.3125 \r\nQ 56.78125 27.484375 56.78125 20.515625 \r\nQ 56.78125 9.90625 50.3125 4.234375 \r\nQ 43.84375 -1.421875 31.78125 -1.421875 \r\nQ 19.734375 -1.421875 13.25 4.234375 \r\nQ 6.78125 9.90625 6.78125 20.515625 \r\nQ 6.78125 27.484375 10.78125 32.3125 \r\nQ 14.796875 37.15625 21.921875 38.8125 \r\nz\r\nM 18.3125 54.390625 \r\nQ 18.3125 48.734375 21.84375 45.5625 \r\nQ 25.390625 42.390625 31.78125 42.390625 \r\nQ 38.140625 42.390625 41.71875 45.5625 \r\nQ 45.3125 48.734375 45.3125 54.390625 \r\nQ 45.3125 60.0625 41.71875 63.234375 \r\nQ 38.140625 66.40625 31.78125 66.40625 \r\nQ 25.390625 66.40625 21.84375 63.234375 \r\nQ 18.3125 60.0625 18.3125 54.390625 \r\nz\r\n\" id=\"DejaVuSans-56\"/>\r\n       </defs>\r\n       <use xlink:href=\"#DejaVuSans-56\"/>\r\n      </g>\r\n     </g>\r\n    </g>\r\n    <g id=\"xtick_9\">\r\n     <g id=\"line2d_9\">\r\n      <g>\r\n       <use style=\"stroke:#000000;stroke-width:0.8;\" x=\"346.9625\" xlink:href=\"#m0321198ff4\" y=\"246.24\"/>\r\n      </g>\r\n     </g>\r\n     <g id=\"text_9\">\r\n      <!-- 9 -->\r\n      <g transform=\"translate(343.78125 260.838437)scale(0.1 -0.1)\">\r\n       <defs>\r\n        <path d=\"M 10.984375 1.515625 \r\nL 10.984375 10.5 \r\nQ 14.703125 8.734375 18.5 7.8125 \r\nQ 22.3125 6.890625 25.984375 6.890625 \r\nQ 35.75 6.890625 40.890625 13.453125 \r\nQ 46.046875 20.015625 46.78125 33.40625 \r\nQ 43.953125 29.203125 39.59375 26.953125 \r\nQ 35.25 24.703125 29.984375 24.703125 \r\nQ 19.046875 24.703125 12.671875 31.3125 \r\nQ 6.296875 37.9375 6.296875 49.421875 \r\nQ 6.296875 60.640625 12.9375 67.421875 \r\nQ 19.578125 74.21875 30.609375 74.21875 \r\nQ 43.265625 74.21875 49.921875 64.515625 \r\nQ 56.59375 54.828125 56.59375 36.375 \r\nQ 56.59375 19.140625 48.40625 8.859375 \r\nQ 40.234375 -1.421875 26.421875 -1.421875 \r\nQ 22.703125 -1.421875 18.890625 -0.6875 \r\nQ 15.09375 0.046875 10.984375 1.515625 \r\nz\r\nM 30.609375 32.421875 \r\nQ 37.25 32.421875 41.125 36.953125 \r\nQ 45.015625 41.5 45.015625 49.421875 \r\nQ 45.015625 57.28125 41.125 61.84375 \r\nQ 37.25 66.40625 30.609375 66.40625 \r\nQ 23.96875 66.40625 20.09375 61.84375 \r\nQ 16.21875 57.28125 16.21875 49.421875 \r\nQ 16.21875 41.5 20.09375 36.953125 \r\nQ 23.96875 32.421875 30.609375 32.421875 \r\nz\r\n\" id=\"DejaVuSans-57\"/>\r\n       </defs>\r\n       <use xlink:href=\"#DejaVuSans-57\"/>\r\n      </g>\r\n     </g>\r\n    </g>\r\n    <g id=\"text_10\">\r\n     <!-- day -->\r\n     <g transform=\"translate(184.164844 274.516562)scale(0.1 -0.1)\">\r\n      <defs>\r\n       <path d=\"M 45.40625 46.390625 \r\nL 45.40625 75.984375 \r\nL 54.390625 75.984375 \r\nL 54.390625 0 \r\nL 45.40625 0 \r\nL 45.40625 8.203125 \r\nQ 42.578125 3.328125 38.25 0.953125 \r\nQ 33.9375 -1.421875 27.875 -1.421875 \r\nQ 17.96875 -1.421875 11.734375 6.484375 \r\nQ 5.515625 14.40625 5.515625 27.296875 \r\nQ 5.515625 40.1875 11.734375 48.09375 \r\nQ 17.96875 56 27.875 56 \r\nQ 33.9375 56 38.25 53.625 \r\nQ 42.578125 51.265625 45.40625 46.390625 \r\nz\r\nM 14.796875 27.296875 \r\nQ 14.796875 17.390625 18.875 11.75 \r\nQ 22.953125 6.109375 30.078125 6.109375 \r\nQ 37.203125 6.109375 41.296875 11.75 \r\nQ 45.40625 17.390625 45.40625 27.296875 \r\nQ 45.40625 37.203125 41.296875 42.84375 \r\nQ 37.203125 48.484375 30.078125 48.484375 \r\nQ 22.953125 48.484375 18.875 42.84375 \r\nQ 14.796875 37.203125 14.796875 27.296875 \r\nz\r\n\" id=\"DejaVuSans-100\"/>\r\n       <path d=\"M 34.28125 27.484375 \r\nQ 23.390625 27.484375 19.1875 25 \r\nQ 14.984375 22.515625 14.984375 16.5 \r\nQ 14.984375 11.71875 18.140625 8.90625 \r\nQ 21.296875 6.109375 26.703125 6.109375 \r\nQ 34.1875 6.109375 38.703125 11.40625 \r\nQ 43.21875 16.703125 43.21875 25.484375 \r\nL 43.21875 27.484375 \r\nz\r\nM 52.203125 31.203125 \r\nL 52.203125 0 \r\nL 43.21875 0 \r\nL 43.21875 8.296875 \r\nQ 40.140625 3.328125 35.546875 0.953125 \r\nQ 30.953125 -1.421875 24.3125 -1.421875 \r\nQ 15.921875 -1.421875 10.953125 3.296875 \r\nQ 6 8.015625 6 15.921875 \r\nQ 6 25.140625 12.171875 29.828125 \r\nQ 18.359375 34.515625 30.609375 34.515625 \r\nL 43.21875 34.515625 \r\nL 43.21875 35.40625 \r\nQ 43.21875 41.609375 39.140625 45 \r\nQ 35.0625 48.390625 27.6875 48.390625 \r\nQ 23 48.390625 18.546875 47.265625 \r\nQ 14.109375 46.140625 10.015625 43.890625 \r\nL 10.015625 52.203125 \r\nQ 14.9375 54.109375 19.578125 55.046875 \r\nQ 24.21875 56 28.609375 56 \r\nQ 40.484375 56 46.34375 49.84375 \r\nQ 52.203125 43.703125 52.203125 31.203125 \r\nz\r\n\" id=\"DejaVuSans-97\"/>\r\n       <path d=\"M 32.171875 -5.078125 \r\nQ 28.375 -14.84375 24.75 -17.8125 \r\nQ 21.140625 -20.796875 15.09375 -20.796875 \r\nL 7.90625 -20.796875 \r\nL 7.90625 -13.28125 \r\nL 13.1875 -13.28125 \r\nQ 16.890625 -13.28125 18.9375 -11.515625 \r\nQ 21 -9.765625 23.484375 -3.21875 \r\nL 25.09375 0.875 \r\nL 2.984375 54.6875 \r\nL 12.5 54.6875 \r\nL 29.59375 11.921875 \r\nL 46.6875 54.6875 \r\nL 56.203125 54.6875 \r\nz\r\n\" id=\"DejaVuSans-121\"/>\r\n      </defs>\r\n      <use xlink:href=\"#DejaVuSans-100\"/>\r\n      <use x=\"63.476562\" xlink:href=\"#DejaVuSans-97\"/>\r\n      <use x=\"124.755859\" xlink:href=\"#DejaVuSans-121\"/>\r\n     </g>\r\n    </g>\r\n   </g>\r\n   <g id=\"matplotlib.axis_2\">\r\n    <g id=\"ytick_1\">\r\n     <g id=\"line2d_10\">\r\n      <defs>\r\n       <path d=\"M 0 0 \r\nL -3.5 0 \r\n\" id=\"md813ec491c\" style=\"stroke:#000000;stroke-width:0.8;\"/>\r\n      </defs>\r\n      <g>\r\n       <use style=\"stroke:#000000;stroke-width:0.8;\" x=\"20.5625\" xlink:href=\"#md813ec491c\" y=\"236.421818\"/>\r\n      </g>\r\n     </g>\r\n     <g id=\"text_11\">\r\n      <!-- 0 -->\r\n      <g transform=\"translate(7.2 240.221037)scale(0.1 -0.1)\">\r\n       <defs>\r\n        <path d=\"M 31.78125 66.40625 \r\nQ 24.171875 66.40625 20.328125 58.90625 \r\nQ 16.5 51.421875 16.5 36.375 \r\nQ 16.5 21.390625 20.328125 13.890625 \r\nQ 24.171875 6.390625 31.78125 6.390625 \r\nQ 39.453125 6.390625 43.28125 13.890625 \r\nQ 47.125 21.390625 47.125 36.375 \r\nQ 47.125 51.421875 43.28125 58.90625 \r\nQ 39.453125 66.40625 31.78125 66.40625 \r\nz\r\nM 31.78125 74.21875 \r\nQ 44.046875 74.21875 50.515625 64.515625 \r\nQ 56.984375 54.828125 56.984375 36.375 \r\nQ 56.984375 17.96875 50.515625 8.265625 \r\nQ 44.046875 -1.421875 31.78125 -1.421875 \r\nQ 19.53125 -1.421875 13.0625 8.265625 \r\nQ 6.59375 17.96875 6.59375 36.375 \r\nQ 6.59375 54.828125 13.0625 64.515625 \r\nQ 19.53125 74.21875 31.78125 74.21875 \r\nz\r\n\" id=\"DejaVuSans-48\"/>\r\n       </defs>\r\n       <use xlink:href=\"#DejaVuSans-48\"/>\r\n      </g>\r\n     </g>\r\n    </g>\r\n    <g id=\"ytick_2\">\r\n     <g id=\"line2d_11\">\r\n      <g>\r\n       <use style=\"stroke:#000000;stroke-width:0.8;\" x=\"20.5625\" xlink:href=\"#md813ec491c\" y=\"208.36987\"/>\r\n      </g>\r\n     </g>\r\n     <g id=\"text_12\">\r\n      <!-- 1 -->\r\n      <g transform=\"translate(7.2 212.169089)scale(0.1 -0.1)\">\r\n       <use xlink:href=\"#DejaVuSans-49\"/>\r\n      </g>\r\n     </g>\r\n    </g>\r\n    <g id=\"ytick_3\">\r\n     <g id=\"line2d_12\">\r\n      <g>\r\n       <use style=\"stroke:#000000;stroke-width:0.8;\" x=\"20.5625\" xlink:href=\"#md813ec491c\" y=\"180.317922\"/>\r\n      </g>\r\n     </g>\r\n     <g id=\"text_13\">\r\n      <!-- 2 -->\r\n      <g transform=\"translate(7.2 184.117141)scale(0.1 -0.1)\">\r\n       <use xlink:href=\"#DejaVuSans-50\"/>\r\n      </g>\r\n     </g>\r\n    </g>\r\n    <g id=\"ytick_4\">\r\n     <g id=\"line2d_13\">\r\n      <g>\r\n       <use style=\"stroke:#000000;stroke-width:0.8;\" x=\"20.5625\" xlink:href=\"#md813ec491c\" y=\"152.265974\"/>\r\n      </g>\r\n     </g>\r\n     <g id=\"text_14\">\r\n      <!-- 3 -->\r\n      <g transform=\"translate(7.2 156.065193)scale(0.1 -0.1)\">\r\n       <use xlink:href=\"#DejaVuSans-51\"/>\r\n      </g>\r\n     </g>\r\n    </g>\r\n    <g id=\"ytick_5\">\r\n     <g id=\"line2d_14\">\r\n      <g>\r\n       <use style=\"stroke:#000000;stroke-width:0.8;\" x=\"20.5625\" xlink:href=\"#md813ec491c\" y=\"124.214026\"/>\r\n      </g>\r\n     </g>\r\n     <g id=\"text_15\">\r\n      <!-- 4 -->\r\n      <g transform=\"translate(7.2 128.013245)scale(0.1 -0.1)\">\r\n       <use xlink:href=\"#DejaVuSans-52\"/>\r\n      </g>\r\n     </g>\r\n    </g>\r\n    <g id=\"ytick_6\">\r\n     <g id=\"line2d_15\">\r\n      <g>\r\n       <use style=\"stroke:#000000;stroke-width:0.8;\" x=\"20.5625\" xlink:href=\"#md813ec491c\" y=\"96.162078\"/>\r\n      </g>\r\n     </g>\r\n     <g id=\"text_16\">\r\n      <!-- 5 -->\r\n      <g transform=\"translate(7.2 99.961297)scale(0.1 -0.1)\">\r\n       <use xlink:href=\"#DejaVuSans-53\"/>\r\n      </g>\r\n     </g>\r\n    </g>\r\n    <g id=\"ytick_7\">\r\n     <g id=\"line2d_16\">\r\n      <g>\r\n       <use style=\"stroke:#000000;stroke-width:0.8;\" x=\"20.5625\" xlink:href=\"#md813ec491c\" y=\"68.11013\"/>\r\n      </g>\r\n     </g>\r\n     <g id=\"text_17\">\r\n      <!-- 6 -->\r\n      <g transform=\"translate(7.2 71.909349)scale(0.1 -0.1)\">\r\n       <use xlink:href=\"#DejaVuSans-54\"/>\r\n      </g>\r\n     </g>\r\n    </g>\r\n    <g id=\"ytick_8\">\r\n     <g id=\"line2d_17\">\r\n      <g>\r\n       <use style=\"stroke:#000000;stroke-width:0.8;\" x=\"20.5625\" xlink:href=\"#md813ec491c\" y=\"40.058182\"/>\r\n      </g>\r\n     </g>\r\n     <g id=\"text_18\">\r\n      <!-- 7 -->\r\n      <g transform=\"translate(7.2 43.857401)scale(0.1 -0.1)\">\r\n       <use xlink:href=\"#DejaVuSans-55\"/>\r\n      </g>\r\n     </g>\r\n    </g>\r\n   </g>\r\n   <g id=\"line2d_18\">\r\n    <path clip-path=\"url(#p497e67deab)\" d=\"M 30.1625 236.421818 \r\nL 49.3625 236.421818 \r\nL 49.3625 124.214026 \r\nL 30.1625 124.214026 \r\nL 30.1625 236.421818 \r\n\" style=\"fill:none;stroke:#1f77b4;stroke-linecap:square;\"/>\r\n   </g>\r\n   <g id=\"line2d_19\">\r\n    <path clip-path=\"url(#p497e67deab)\" d=\"M 39.7625 236.421818 \r\nL 39.7625 236.421818 \r\n\" style=\"fill:none;stroke:#1f77b4;stroke-linecap:square;\"/>\r\n   </g>\r\n   <g id=\"line2d_20\">\r\n    <path clip-path=\"url(#p497e67deab)\" d=\"M 39.7625 124.214026 \r\nL 39.7625 40.058182 \r\n\" style=\"fill:none;stroke:#1f77b4;stroke-linecap:square;\"/>\r\n   </g>\r\n   <g id=\"line2d_21\">\r\n    <path clip-path=\"url(#p497e67deab)\" d=\"M 34.9625 236.421818 \r\nL 44.5625 236.421818 \r\n\" style=\"fill:none;stroke:#000000;stroke-linecap:square;\"/>\r\n   </g>\r\n   <g id=\"line2d_22\">\r\n    <path clip-path=\"url(#p497e67deab)\" d=\"M 34.9625 40.058182 \r\nL 44.5625 40.058182 \r\n\" style=\"fill:none;stroke:#000000;stroke-linecap:square;\"/>\r\n   </g>\r\n   <g id=\"line2d_23\"/>\r\n   <g id=\"line2d_24\">\r\n    <path clip-path=\"url(#p497e67deab)\" d=\"M 68.5625 236.421818 \r\nL 87.7625 236.421818 \r\nL 87.7625 124.214026 \r\nL 68.5625 124.214026 \r\nL 68.5625 236.421818 \r\n\" style=\"fill:none;stroke:#1f77b4;stroke-linecap:square;\"/>\r\n   </g>\r\n   <g id=\"line2d_25\">\r\n    <path clip-path=\"url(#p497e67deab)\" d=\"M 78.1625 236.421818 \r\nL 78.1625 236.421818 \r\n\" style=\"fill:none;stroke:#1f77b4;stroke-linecap:square;\"/>\r\n   </g>\r\n   <g id=\"line2d_26\">\r\n    <path clip-path=\"url(#p497e67deab)\" d=\"M 78.1625 124.214026 \r\nL 78.1625 40.058182 \r\n\" style=\"fill:none;stroke:#1f77b4;stroke-linecap:square;\"/>\r\n   </g>\r\n   <g id=\"line2d_27\">\r\n    <path clip-path=\"url(#p497e67deab)\" d=\"M 73.3625 236.421818 \r\nL 82.9625 236.421818 \r\n\" style=\"fill:none;stroke:#000000;stroke-linecap:square;\"/>\r\n   </g>\r\n   <g id=\"line2d_28\">\r\n    <path clip-path=\"url(#p497e67deab)\" d=\"M 73.3625 40.058182 \r\nL 82.9625 40.058182 \r\n\" style=\"fill:none;stroke:#000000;stroke-linecap:square;\"/>\r\n   </g>\r\n   <g id=\"line2d_29\"/>\r\n   <g id=\"line2d_30\">\r\n    <path clip-path=\"url(#p497e67deab)\" d=\"M 106.9625 208.36987 \r\nL 126.1625 208.36987 \r\nL 126.1625 124.214026 \r\nL 106.9625 124.214026 \r\nL 106.9625 208.36987 \r\n\" style=\"fill:none;stroke:#1f77b4;stroke-linecap:square;\"/>\r\n   </g>\r\n   <g id=\"line2d_31\">\r\n    <path clip-path=\"url(#p497e67deab)\" d=\"M 116.5625 208.36987 \r\nL 116.5625 236.421818 \r\n\" style=\"fill:none;stroke:#1f77b4;stroke-linecap:square;\"/>\r\n   </g>\r\n   <g id=\"line2d_32\">\r\n    <path clip-path=\"url(#p497e67deab)\" d=\"M 116.5625 124.214026 \r\nL 116.5625 40.058182 \r\n\" style=\"fill:none;stroke:#1f77b4;stroke-linecap:square;\"/>\r\n   </g>\r\n   <g id=\"line2d_33\">\r\n    <path clip-path=\"url(#p497e67deab)\" d=\"M 111.7625 236.421818 \r\nL 121.3625 236.421818 \r\n\" style=\"fill:none;stroke:#000000;stroke-linecap:square;\"/>\r\n   </g>\r\n   <g id=\"line2d_34\">\r\n    <path clip-path=\"url(#p497e67deab)\" d=\"M 111.7625 40.058182 \r\nL 121.3625 40.058182 \r\n\" style=\"fill:none;stroke:#000000;stroke-linecap:square;\"/>\r\n   </g>\r\n   <g id=\"line2d_35\"/>\r\n   <g id=\"line2d_36\">\r\n    <path clip-path=\"url(#p497e67deab)\" d=\"M 145.3625 236.421818 \r\nL 164.5625 236.421818 \r\nL 164.5625 124.214026 \r\nL 145.3625 124.214026 \r\nL 145.3625 236.421818 \r\n\" style=\"fill:none;stroke:#1f77b4;stroke-linecap:square;\"/>\r\n   </g>\r\n   <g id=\"line2d_37\">\r\n    <path clip-path=\"url(#p497e67deab)\" d=\"M 154.9625 236.421818 \r\nL 154.9625 236.421818 \r\n\" style=\"fill:none;stroke:#1f77b4;stroke-linecap:square;\"/>\r\n   </g>\r\n   <g id=\"line2d_38\">\r\n    <path clip-path=\"url(#p497e67deab)\" d=\"M 154.9625 124.214026 \r\nL 154.9625 40.058182 \r\n\" style=\"fill:none;stroke:#1f77b4;stroke-linecap:square;\"/>\r\n   </g>\r\n   <g id=\"line2d_39\">\r\n    <path clip-path=\"url(#p497e67deab)\" d=\"M 150.1625 236.421818 \r\nL 159.7625 236.421818 \r\n\" style=\"fill:none;stroke:#000000;stroke-linecap:square;\"/>\r\n   </g>\r\n   <g id=\"line2d_40\">\r\n    <path clip-path=\"url(#p497e67deab)\" d=\"M 150.1625 40.058182 \r\nL 159.7625 40.058182 \r\n\" style=\"fill:none;stroke:#000000;stroke-linecap:square;\"/>\r\n   </g>\r\n   <g id=\"line2d_41\"/>\r\n   <g id=\"line2d_42\">\r\n    <path clip-path=\"url(#p497e67deab)\" d=\"M 183.7625 236.421818 \r\nL 202.9625 236.421818 \r\nL 202.9625 124.214026 \r\nL 183.7625 124.214026 \r\nL 183.7625 236.421818 \r\n\" style=\"fill:none;stroke:#1f77b4;stroke-linecap:square;\"/>\r\n   </g>\r\n   <g id=\"line2d_43\">\r\n    <path clip-path=\"url(#p497e67deab)\" d=\"M 193.3625 236.421818 \r\nL 193.3625 236.421818 \r\n\" style=\"fill:none;stroke:#1f77b4;stroke-linecap:square;\"/>\r\n   </g>\r\n   <g id=\"line2d_44\">\r\n    <path clip-path=\"url(#p497e67deab)\" d=\"M 193.3625 124.214026 \r\nL 193.3625 40.058182 \r\n\" style=\"fill:none;stroke:#1f77b4;stroke-linecap:square;\"/>\r\n   </g>\r\n   <g id=\"line2d_45\">\r\n    <path clip-path=\"url(#p497e67deab)\" d=\"M 188.5625 236.421818 \r\nL 198.1625 236.421818 \r\n\" style=\"fill:none;stroke:#000000;stroke-linecap:square;\"/>\r\n   </g>\r\n   <g id=\"line2d_46\">\r\n    <path clip-path=\"url(#p497e67deab)\" d=\"M 188.5625 40.058182 \r\nL 198.1625 40.058182 \r\n\" style=\"fill:none;stroke:#000000;stroke-linecap:square;\"/>\r\n   </g>\r\n   <g id=\"line2d_47\"/>\r\n   <g id=\"line2d_48\">\r\n    <path clip-path=\"url(#p497e67deab)\" d=\"M 222.1625 236.421818 \r\nL 241.3625 236.421818 \r\nL 241.3625 124.214026 \r\nL 222.1625 124.214026 \r\nL 222.1625 236.421818 \r\n\" style=\"fill:none;stroke:#1f77b4;stroke-linecap:square;\"/>\r\n   </g>\r\n   <g id=\"line2d_49\">\r\n    <path clip-path=\"url(#p497e67deab)\" d=\"M 231.7625 236.421818 \r\nL 231.7625 236.421818 \r\n\" style=\"fill:none;stroke:#1f77b4;stroke-linecap:square;\"/>\r\n   </g>\r\n   <g id=\"line2d_50\">\r\n    <path clip-path=\"url(#p497e67deab)\" d=\"M 231.7625 124.214026 \r\nL 231.7625 40.058182 \r\n\" style=\"fill:none;stroke:#1f77b4;stroke-linecap:square;\"/>\r\n   </g>\r\n   <g id=\"line2d_51\">\r\n    <path clip-path=\"url(#p497e67deab)\" d=\"M 226.9625 236.421818 \r\nL 236.5625 236.421818 \r\n\" style=\"fill:none;stroke:#000000;stroke-linecap:square;\"/>\r\n   </g>\r\n   <g id=\"line2d_52\">\r\n    <path clip-path=\"url(#p497e67deab)\" d=\"M 226.9625 40.058182 \r\nL 236.5625 40.058182 \r\n\" style=\"fill:none;stroke:#000000;stroke-linecap:square;\"/>\r\n   </g>\r\n   <g id=\"line2d_53\"/>\r\n   <g id=\"line2d_54\">\r\n    <path clip-path=\"url(#p497e67deab)\" d=\"M 260.5625 236.421818 \r\nL 279.7625 236.421818 \r\nL 279.7625 124.214026 \r\nL 260.5625 124.214026 \r\nL 260.5625 236.421818 \r\n\" style=\"fill:none;stroke:#1f77b4;stroke-linecap:square;\"/>\r\n   </g>\r\n   <g id=\"line2d_55\">\r\n    <path clip-path=\"url(#p497e67deab)\" d=\"M 270.1625 236.421818 \r\nL 270.1625 236.421818 \r\n\" style=\"fill:none;stroke:#1f77b4;stroke-linecap:square;\"/>\r\n   </g>\r\n   <g id=\"line2d_56\">\r\n    <path clip-path=\"url(#p497e67deab)\" d=\"M 270.1625 124.214026 \r\nL 270.1625 40.058182 \r\n\" style=\"fill:none;stroke:#1f77b4;stroke-linecap:square;\"/>\r\n   </g>\r\n   <g id=\"line2d_57\">\r\n    <path clip-path=\"url(#p497e67deab)\" d=\"M 265.3625 236.421818 \r\nL 274.9625 236.421818 \r\n\" style=\"fill:none;stroke:#000000;stroke-linecap:square;\"/>\r\n   </g>\r\n   <g id=\"line2d_58\">\r\n    <path clip-path=\"url(#p497e67deab)\" d=\"M 265.3625 40.058182 \r\nL 274.9625 40.058182 \r\n\" style=\"fill:none;stroke:#000000;stroke-linecap:square;\"/>\r\n   </g>\r\n   <g id=\"line2d_59\"/>\r\n   <g id=\"line2d_60\">\r\n    <path clip-path=\"url(#p497e67deab)\" d=\"M 298.9625 236.421818 \r\nL 318.1625 236.421818 \r\nL 318.1625 124.214026 \r\nL 298.9625 124.214026 \r\nL 298.9625 236.421818 \r\n\" style=\"fill:none;stroke:#1f77b4;stroke-linecap:square;\"/>\r\n   </g>\r\n   <g id=\"line2d_61\">\r\n    <path clip-path=\"url(#p497e67deab)\" d=\"M 308.5625 236.421818 \r\nL 308.5625 236.421818 \r\n\" style=\"fill:none;stroke:#1f77b4;stroke-linecap:square;\"/>\r\n   </g>\r\n   <g id=\"line2d_62\">\r\n    <path clip-path=\"url(#p497e67deab)\" d=\"M 308.5625 124.214026 \r\nL 308.5625 40.058182 \r\n\" style=\"fill:none;stroke:#1f77b4;stroke-linecap:square;\"/>\r\n   </g>\r\n   <g id=\"line2d_63\">\r\n    <path clip-path=\"url(#p497e67deab)\" d=\"M 303.7625 236.421818 \r\nL 313.3625 236.421818 \r\n\" style=\"fill:none;stroke:#000000;stroke-linecap:square;\"/>\r\n   </g>\r\n   <g id=\"line2d_64\">\r\n    <path clip-path=\"url(#p497e67deab)\" d=\"M 303.7625 40.058182 \r\nL 313.3625 40.058182 \r\n\" style=\"fill:none;stroke:#000000;stroke-linecap:square;\"/>\r\n   </g>\r\n   <g id=\"line2d_65\"/>\r\n   <g id=\"line2d_66\">\r\n    <path clip-path=\"url(#p497e67deab)\" d=\"M 337.3625 236.421818 \r\nL 356.5625 236.421818 \r\nL 356.5625 124.214026 \r\nL 337.3625 124.214026 \r\nL 337.3625 236.421818 \r\n\" style=\"fill:none;stroke:#1f77b4;stroke-linecap:square;\"/>\r\n   </g>\r\n   <g id=\"line2d_67\">\r\n    <path clip-path=\"url(#p497e67deab)\" d=\"M 346.9625 236.421818 \r\nL 346.9625 236.421818 \r\n\" style=\"fill:none;stroke:#1f77b4;stroke-linecap:square;\"/>\r\n   </g>\r\n   <g id=\"line2d_68\">\r\n    <path clip-path=\"url(#p497e67deab)\" d=\"M 346.9625 124.214026 \r\nL 346.9625 40.058182 \r\n\" style=\"fill:none;stroke:#1f77b4;stroke-linecap:square;\"/>\r\n   </g>\r\n   <g id=\"line2d_69\">\r\n    <path clip-path=\"url(#p497e67deab)\" d=\"M 342.1625 236.421818 \r\nL 351.7625 236.421818 \r\n\" style=\"fill:none;stroke:#000000;stroke-linecap:square;\"/>\r\n   </g>\r\n   <g id=\"line2d_70\">\r\n    <path clip-path=\"url(#p497e67deab)\" d=\"M 342.1625 40.058182 \r\nL 351.7625 40.058182 \r\n\" style=\"fill:none;stroke:#000000;stroke-linecap:square;\"/>\r\n   </g>\r\n   <g id=\"line2d_71\"/>\r\n   <g id=\"line2d_72\">\r\n    <path clip-path=\"url(#p497e67deab)\" d=\"M 30.1625 180.317922 \r\nL 49.3625 180.317922 \r\n\" style=\"fill:none;stroke:#2ca02c;stroke-linecap:square;\"/>\r\n   </g>\r\n   <g id=\"line2d_73\">\r\n    <path clip-path=\"url(#p497e67deab)\" d=\"M 68.5625 180.317922 \r\nL 87.7625 180.317922 \r\n\" style=\"fill:none;stroke:#2ca02c;stroke-linecap:square;\"/>\r\n   </g>\r\n   <g id=\"line2d_74\">\r\n    <path clip-path=\"url(#p497e67deab)\" d=\"M 106.9625 180.317922 \r\nL 126.1625 180.317922 \r\n\" style=\"fill:none;stroke:#2ca02c;stroke-linecap:square;\"/>\r\n   </g>\r\n   <g id=\"line2d_75\">\r\n    <path clip-path=\"url(#p497e67deab)\" d=\"M 145.3625 180.317922 \r\nL 164.5625 180.317922 \r\n\" style=\"fill:none;stroke:#2ca02c;stroke-linecap:square;\"/>\r\n   </g>\r\n   <g id=\"line2d_76\">\r\n    <path clip-path=\"url(#p497e67deab)\" d=\"M 183.7625 180.317922 \r\nL 202.9625 180.317922 \r\n\" style=\"fill:none;stroke:#2ca02c;stroke-linecap:square;\"/>\r\n   </g>\r\n   <g id=\"line2d_77\">\r\n    <path clip-path=\"url(#p497e67deab)\" d=\"M 222.1625 180.317922 \r\nL 241.3625 180.317922 \r\n\" style=\"fill:none;stroke:#2ca02c;stroke-linecap:square;\"/>\r\n   </g>\r\n   <g id=\"line2d_78\">\r\n    <path clip-path=\"url(#p497e67deab)\" d=\"M 260.5625 180.317922 \r\nL 279.7625 180.317922 \r\n\" style=\"fill:none;stroke:#2ca02c;stroke-linecap:square;\"/>\r\n   </g>\r\n   <g id=\"line2d_79\">\r\n    <path clip-path=\"url(#p497e67deab)\" d=\"M 298.9625 180.317922 \r\nL 318.1625 180.317922 \r\n\" style=\"fill:none;stroke:#2ca02c;stroke-linecap:square;\"/>\r\n   </g>\r\n   <g id=\"line2d_80\">\r\n    <path clip-path=\"url(#p497e67deab)\" d=\"M 337.3625 180.317922 \r\nL 356.5625 180.317922 \r\n\" style=\"fill:none;stroke:#2ca02c;stroke-linecap:square;\"/>\r\n   </g>\r\n   <g id=\"patch_3\">\r\n    <path d=\"M 20.5625 246.24 \r\nL 20.5625 30.24 \r\n\" style=\"fill:none;stroke:#000000;stroke-linecap:square;stroke-linejoin:miter;stroke-width:0.8;\"/>\r\n   </g>\r\n   <g id=\"patch_4\">\r\n    <path d=\"M 366.1625 246.24 \r\nL 366.1625 30.24 \r\n\" style=\"fill:none;stroke:#000000;stroke-linecap:square;stroke-linejoin:miter;stroke-width:0.8;\"/>\r\n   </g>\r\n   <g id=\"patch_5\">\r\n    <path d=\"M 20.5625 246.24 \r\nL 366.1625 246.24 \r\n\" style=\"fill:none;stroke:#000000;stroke-linecap:square;stroke-linejoin:miter;stroke-width:0.8;\"/>\r\n   </g>\r\n   <g id=\"patch_6\">\r\n    <path d=\"M 20.5625 30.24 \r\nL 366.1625 30.24 \r\n\" style=\"fill:none;stroke:#000000;stroke-linecap:square;stroke-linejoin:miter;stroke-width:0.8;\"/>\r\n   </g>\r\n   <g id=\"text_19\">\r\n    <!-- Bluecar counter -->\r\n    <g transform=\"translate(145.649375 24.24)scale(0.12 -0.12)\">\r\n     <defs>\r\n      <path d=\"M 19.671875 34.8125 \r\nL 19.671875 8.109375 \r\nL 35.5 8.109375 \r\nQ 43.453125 8.109375 47.28125 11.40625 \r\nQ 51.125 14.703125 51.125 21.484375 \r\nQ 51.125 28.328125 47.28125 31.5625 \r\nQ 43.453125 34.8125 35.5 34.8125 \r\nz\r\nM 19.671875 64.796875 \r\nL 19.671875 42.828125 \r\nL 34.28125 42.828125 \r\nQ 41.5 42.828125 45.03125 45.53125 \r\nQ 48.578125 48.25 48.578125 53.8125 \r\nQ 48.578125 59.328125 45.03125 62.0625 \r\nQ 41.5 64.796875 34.28125 64.796875 \r\nz\r\nM 9.8125 72.90625 \r\nL 35.015625 72.90625 \r\nQ 46.296875 72.90625 52.390625 68.21875 \r\nQ 58.5 63.53125 58.5 54.890625 \r\nQ 58.5 48.1875 55.375 44.234375 \r\nQ 52.25 40.28125 46.1875 39.3125 \r\nQ 53.46875 37.75 57.5 32.78125 \r\nQ 61.53125 27.828125 61.53125 20.40625 \r\nQ 61.53125 10.640625 54.890625 5.3125 \r\nQ 48.25 0 35.984375 0 \r\nL 9.8125 0 \r\nz\r\n\" id=\"DejaVuSans-66\"/>\r\n      <path d=\"M 9.421875 75.984375 \r\nL 18.40625 75.984375 \r\nL 18.40625 0 \r\nL 9.421875 0 \r\nz\r\n\" id=\"DejaVuSans-108\"/>\r\n      <path d=\"M 8.5 21.578125 \r\nL 8.5 54.6875 \r\nL 17.484375 54.6875 \r\nL 17.484375 21.921875 \r\nQ 17.484375 14.15625 20.5 10.265625 \r\nQ 23.53125 6.390625 29.59375 6.390625 \r\nQ 36.859375 6.390625 41.078125 11.03125 \r\nQ 45.3125 15.671875 45.3125 23.6875 \r\nL 45.3125 54.6875 \r\nL 54.296875 54.6875 \r\nL 54.296875 0 \r\nL 45.3125 0 \r\nL 45.3125 8.40625 \r\nQ 42.046875 3.421875 37.71875 1 \r\nQ 33.40625 -1.421875 27.6875 -1.421875 \r\nQ 18.265625 -1.421875 13.375 4.4375 \r\nQ 8.5 10.296875 8.5 21.578125 \r\nz\r\nM 31.109375 56 \r\nz\r\n\" id=\"DejaVuSans-117\"/>\r\n      <path d=\"M 56.203125 29.59375 \r\nL 56.203125 25.203125 \r\nL 14.890625 25.203125 \r\nQ 15.484375 15.921875 20.484375 11.0625 \r\nQ 25.484375 6.203125 34.421875 6.203125 \r\nQ 39.59375 6.203125 44.453125 7.46875 \r\nQ 49.3125 8.734375 54.109375 11.28125 \r\nL 54.109375 2.78125 \r\nQ 49.265625 0.734375 44.1875 -0.34375 \r\nQ 39.109375 -1.421875 33.890625 -1.421875 \r\nQ 20.796875 -1.421875 13.15625 6.1875 \r\nQ 5.515625 13.8125 5.515625 26.8125 \r\nQ 5.515625 40.234375 12.765625 48.109375 \r\nQ 20.015625 56 32.328125 56 \r\nQ 43.359375 56 49.78125 48.890625 \r\nQ 56.203125 41.796875 56.203125 29.59375 \r\nz\r\nM 47.21875 32.234375 \r\nQ 47.125 39.59375 43.09375 43.984375 \r\nQ 39.0625 48.390625 32.421875 48.390625 \r\nQ 24.90625 48.390625 20.390625 44.140625 \r\nQ 15.875 39.890625 15.1875 32.171875 \r\nz\r\n\" id=\"DejaVuSans-101\"/>\r\n      <path d=\"M 48.78125 52.59375 \r\nL 48.78125 44.1875 \r\nQ 44.96875 46.296875 41.140625 47.34375 \r\nQ 37.3125 48.390625 33.40625 48.390625 \r\nQ 24.65625 48.390625 19.8125 42.84375 \r\nQ 14.984375 37.3125 14.984375 27.296875 \r\nQ 14.984375 17.28125 19.8125 11.734375 \r\nQ 24.65625 6.203125 33.40625 6.203125 \r\nQ 37.3125 6.203125 41.140625 7.25 \r\nQ 44.96875 8.296875 48.78125 10.40625 \r\nL 48.78125 2.09375 \r\nQ 45.015625 0.34375 40.984375 -0.53125 \r\nQ 36.96875 -1.421875 32.421875 -1.421875 \r\nQ 20.0625 -1.421875 12.78125 6.34375 \r\nQ 5.515625 14.109375 5.515625 27.296875 \r\nQ 5.515625 40.671875 12.859375 48.328125 \r\nQ 20.21875 56 33.015625 56 \r\nQ 37.15625 56 41.109375 55.140625 \r\nQ 45.0625 54.296875 48.78125 52.59375 \r\nz\r\n\" id=\"DejaVuSans-99\"/>\r\n      <path d=\"M 41.109375 46.296875 \r\nQ 39.59375 47.171875 37.8125 47.578125 \r\nQ 36.03125 48 33.890625 48 \r\nQ 26.265625 48 22.1875 43.046875 \r\nQ 18.109375 38.09375 18.109375 28.8125 \r\nL 18.109375 0 \r\nL 9.078125 0 \r\nL 9.078125 54.6875 \r\nL 18.109375 54.6875 \r\nL 18.109375 46.1875 \r\nQ 20.953125 51.171875 25.484375 53.578125 \r\nQ 30.03125 56 36.53125 56 \r\nQ 37.453125 56 38.578125 55.875 \r\nQ 39.703125 55.765625 41.0625 55.515625 \r\nz\r\n\" id=\"DejaVuSans-114\"/>\r\n      <path id=\"DejaVuSans-32\"/>\r\n      <path d=\"M 30.609375 48.390625 \r\nQ 23.390625 48.390625 19.1875 42.75 \r\nQ 14.984375 37.109375 14.984375 27.296875 \r\nQ 14.984375 17.484375 19.15625 11.84375 \r\nQ 23.34375 6.203125 30.609375 6.203125 \r\nQ 37.796875 6.203125 41.984375 11.859375 \r\nQ 46.1875 17.53125 46.1875 27.296875 \r\nQ 46.1875 37.015625 41.984375 42.703125 \r\nQ 37.796875 48.390625 30.609375 48.390625 \r\nz\r\nM 30.609375 56 \r\nQ 42.328125 56 49.015625 48.375 \r\nQ 55.71875 40.765625 55.71875 27.296875 \r\nQ 55.71875 13.875 49.015625 6.21875 \r\nQ 42.328125 -1.421875 30.609375 -1.421875 \r\nQ 18.84375 -1.421875 12.171875 6.21875 \r\nQ 5.515625 13.875 5.515625 27.296875 \r\nQ 5.515625 40.765625 12.171875 48.375 \r\nQ 18.84375 56 30.609375 56 \r\nz\r\n\" id=\"DejaVuSans-111\"/>\r\n      <path d=\"M 54.890625 33.015625 \r\nL 54.890625 0 \r\nL 45.90625 0 \r\nL 45.90625 32.71875 \r\nQ 45.90625 40.484375 42.875 44.328125 \r\nQ 39.84375 48.1875 33.796875 48.1875 \r\nQ 26.515625 48.1875 22.3125 43.546875 \r\nQ 18.109375 38.921875 18.109375 30.90625 \r\nL 18.109375 0 \r\nL 9.078125 0 \r\nL 9.078125 54.6875 \r\nL 18.109375 54.6875 \r\nL 18.109375 46.1875 \r\nQ 21.34375 51.125 25.703125 53.5625 \r\nQ 30.078125 56 35.796875 56 \r\nQ 45.21875 56 50.046875 50.171875 \r\nQ 54.890625 44.34375 54.890625 33.015625 \r\nz\r\n\" id=\"DejaVuSans-110\"/>\r\n      <path d=\"M 18.3125 70.21875 \r\nL 18.3125 54.6875 \r\nL 36.8125 54.6875 \r\nL 36.8125 47.703125 \r\nL 18.3125 47.703125 \r\nL 18.3125 18.015625 \r\nQ 18.3125 11.328125 20.140625 9.421875 \r\nQ 21.96875 7.515625 27.59375 7.515625 \r\nL 36.8125 7.515625 \r\nL 36.8125 0 \r\nL 27.59375 0 \r\nQ 17.1875 0 13.234375 3.875 \r\nQ 9.28125 7.765625 9.28125 18.015625 \r\nL 9.28125 47.703125 \r\nL 2.6875 47.703125 \r\nL 2.6875 54.6875 \r\nL 9.28125 54.6875 \r\nL 9.28125 70.21875 \r\nz\r\n\" id=\"DejaVuSans-116\"/>\r\n     </defs>\r\n     <use xlink:href=\"#DejaVuSans-66\"/>\r\n     <use x=\"68.603516\" xlink:href=\"#DejaVuSans-108\"/>\r\n     <use x=\"96.386719\" xlink:href=\"#DejaVuSans-117\"/>\r\n     <use x=\"159.765625\" xlink:href=\"#DejaVuSans-101\"/>\r\n     <use x=\"221.289062\" xlink:href=\"#DejaVuSans-99\"/>\r\n     <use x=\"276.269531\" xlink:href=\"#DejaVuSans-97\"/>\r\n     <use x=\"337.548828\" xlink:href=\"#DejaVuSans-114\"/>\r\n     <use x=\"378.662109\" xlink:href=\"#DejaVuSans-32\"/>\r\n     <use x=\"410.449219\" xlink:href=\"#DejaVuSans-99\"/>\r\n     <use x=\"465.429688\" xlink:href=\"#DejaVuSans-111\"/>\r\n     <use x=\"526.611328\" xlink:href=\"#DejaVuSans-117\"/>\r\n     <use x=\"589.990234\" xlink:href=\"#DejaVuSans-110\"/>\r\n     <use x=\"653.369141\" xlink:href=\"#DejaVuSans-116\"/>\r\n     <use x=\"692.578125\" xlink:href=\"#DejaVuSans-101\"/>\r\n     <use x=\"754.101562\" xlink:href=\"#DejaVuSans-114\"/>\r\n    </g>\r\n   </g>\r\n  </g>\r\n  <g id=\"text_20\">\r\n   <!-- Boxplot grouped by day -->\r\n   <g transform=\"translate(121.669063 16.318125)scale(0.12 -0.12)\">\r\n    <defs>\r\n     <path d=\"M 54.890625 54.6875 \r\nL 35.109375 28.078125 \r\nL 55.90625 0 \r\nL 45.3125 0 \r\nL 29.390625 21.484375 \r\nL 13.484375 0 \r\nL 2.875 0 \r\nL 24.125 28.609375 \r\nL 4.6875 54.6875 \r\nL 15.28125 54.6875 \r\nL 29.78125 35.203125 \r\nL 44.28125 54.6875 \r\nz\r\n\" id=\"DejaVuSans-120\"/>\r\n     <path d=\"M 18.109375 8.203125 \r\nL 18.109375 -20.796875 \r\nL 9.078125 -20.796875 \r\nL 9.078125 54.6875 \r\nL 18.109375 54.6875 \r\nL 18.109375 46.390625 \r\nQ 20.953125 51.265625 25.265625 53.625 \r\nQ 29.59375 56 35.59375 56 \r\nQ 45.5625 56 51.78125 48.09375 \r\nQ 58.015625 40.1875 58.015625 27.296875 \r\nQ 58.015625 14.40625 51.78125 6.484375 \r\nQ 45.5625 -1.421875 35.59375 -1.421875 \r\nQ 29.59375 -1.421875 25.265625 0.953125 \r\nQ 20.953125 3.328125 18.109375 8.203125 \r\nz\r\nM 48.6875 27.296875 \r\nQ 48.6875 37.203125 44.609375 42.84375 \r\nQ 40.53125 48.484375 33.40625 48.484375 \r\nQ 26.265625 48.484375 22.1875 42.84375 \r\nQ 18.109375 37.203125 18.109375 27.296875 \r\nQ 18.109375 17.390625 22.1875 11.75 \r\nQ 26.265625 6.109375 33.40625 6.109375 \r\nQ 40.53125 6.109375 44.609375 11.75 \r\nQ 48.6875 17.390625 48.6875 27.296875 \r\nz\r\n\" id=\"DejaVuSans-112\"/>\r\n     <path d=\"M 45.40625 27.984375 \r\nQ 45.40625 37.75 41.375 43.109375 \r\nQ 37.359375 48.484375 30.078125 48.484375 \r\nQ 22.859375 48.484375 18.828125 43.109375 \r\nQ 14.796875 37.75 14.796875 27.984375 \r\nQ 14.796875 18.265625 18.828125 12.890625 \r\nQ 22.859375 7.515625 30.078125 7.515625 \r\nQ 37.359375 7.515625 41.375 12.890625 \r\nQ 45.40625 18.265625 45.40625 27.984375 \r\nz\r\nM 54.390625 6.78125 \r\nQ 54.390625 -7.171875 48.1875 -13.984375 \r\nQ 42 -20.796875 29.203125 -20.796875 \r\nQ 24.46875 -20.796875 20.265625 -20.09375 \r\nQ 16.0625 -19.390625 12.109375 -17.921875 \r\nL 12.109375 -9.1875 \r\nQ 16.0625 -11.328125 19.921875 -12.34375 \r\nQ 23.78125 -13.375 27.78125 -13.375 \r\nQ 36.625 -13.375 41.015625 -8.765625 \r\nQ 45.40625 -4.15625 45.40625 5.171875 \r\nL 45.40625 9.625 \r\nQ 42.625 4.78125 38.28125 2.390625 \r\nQ 33.9375 0 27.875 0 \r\nQ 17.828125 0 11.671875 7.65625 \r\nQ 5.515625 15.328125 5.515625 27.984375 \r\nQ 5.515625 40.671875 11.671875 48.328125 \r\nQ 17.828125 56 27.875 56 \r\nQ 33.9375 56 38.28125 53.609375 \r\nQ 42.625 51.21875 45.40625 46.390625 \r\nL 45.40625 54.6875 \r\nL 54.390625 54.6875 \r\nz\r\n\" id=\"DejaVuSans-103\"/>\r\n     <path d=\"M 48.6875 27.296875 \r\nQ 48.6875 37.203125 44.609375 42.84375 \r\nQ 40.53125 48.484375 33.40625 48.484375 \r\nQ 26.265625 48.484375 22.1875 42.84375 \r\nQ 18.109375 37.203125 18.109375 27.296875 \r\nQ 18.109375 17.390625 22.1875 11.75 \r\nQ 26.265625 6.109375 33.40625 6.109375 \r\nQ 40.53125 6.109375 44.609375 11.75 \r\nQ 48.6875 17.390625 48.6875 27.296875 \r\nz\r\nM 18.109375 46.390625 \r\nQ 20.953125 51.265625 25.265625 53.625 \r\nQ 29.59375 56 35.59375 56 \r\nQ 45.5625 56 51.78125 48.09375 \r\nQ 58.015625 40.1875 58.015625 27.296875 \r\nQ 58.015625 14.40625 51.78125 6.484375 \r\nQ 45.5625 -1.421875 35.59375 -1.421875 \r\nQ 29.59375 -1.421875 25.265625 0.953125 \r\nQ 20.953125 3.328125 18.109375 8.203125 \r\nL 18.109375 0 \r\nL 9.078125 0 \r\nL 9.078125 75.984375 \r\nL 18.109375 75.984375 \r\nz\r\n\" id=\"DejaVuSans-98\"/>\r\n    </defs>\r\n    <use xlink:href=\"#DejaVuSans-66\"/>\r\n    <use x=\"68.603516\" xlink:href=\"#DejaVuSans-111\"/>\r\n    <use x=\"126.660156\" xlink:href=\"#DejaVuSans-120\"/>\r\n    <use x=\"185.839844\" xlink:href=\"#DejaVuSans-112\"/>\r\n    <use x=\"249.316406\" xlink:href=\"#DejaVuSans-108\"/>\r\n    <use x=\"277.099609\" xlink:href=\"#DejaVuSans-111\"/>\r\n    <use x=\"338.28125\" xlink:href=\"#DejaVuSans-116\"/>\r\n    <use x=\"377.490234\" xlink:href=\"#DejaVuSans-32\"/>\r\n    <use x=\"409.277344\" xlink:href=\"#DejaVuSans-103\"/>\r\n    <use x=\"472.753906\" xlink:href=\"#DejaVuSans-114\"/>\r\n    <use x=\"511.617188\" xlink:href=\"#DejaVuSans-111\"/>\r\n    <use x=\"572.798828\" xlink:href=\"#DejaVuSans-117\"/>\r\n    <use x=\"636.177734\" xlink:href=\"#DejaVuSans-112\"/>\r\n    <use x=\"699.654297\" xlink:href=\"#DejaVuSans-101\"/>\r\n    <use x=\"761.177734\" xlink:href=\"#DejaVuSans-100\"/>\r\n    <use x=\"824.654297\" xlink:href=\"#DejaVuSans-32\"/>\r\n    <use x=\"856.441406\" xlink:href=\"#DejaVuSans-98\"/>\r\n    <use x=\"919.917969\" xlink:href=\"#DejaVuSans-121\"/>\r\n    <use x=\"979.097656\" xlink:href=\"#DejaVuSans-32\"/>\r\n    <use x=\"1010.884766\" xlink:href=\"#DejaVuSans-100\"/>\r\n    <use x=\"1074.361328\" xlink:href=\"#DejaVuSans-97\"/>\r\n    <use x=\"1135.640625\" xlink:href=\"#DejaVuSans-121\"/>\r\n   </g>\r\n  </g>\r\n </g>\r\n <defs>\r\n  <clipPath id=\"p497e67deab\">\r\n   <rect height=\"216\" width=\"345.6\" x=\"20.5625\" y=\"30.24\"/>\r\n  </clipPath>\r\n </defs>\r\n</svg>\r\n",
      "image/png": "[encoded data removed]"
     },
     "metadata": {
      "needs_background": "light"
     }
    }
   ],
   "source": [
    "# It possible to identify outliers using more than one variables as shown\n",
    "# ---\n",
    "#  There are no outliers. Method used is boxplot.\n",
    "ecars.boxplot(column =['Bluecar counter'], by ='day', grid = False)"
   ]
  },
  {
   "source": [
    "## 4. Consistency \n",
    "***\n",
    "*Check for duplicates,\n",
    "*Drop if any."
   ],
   "cell_type": "markdown",
   "metadata": {}
  },
  {
   "cell_type": "code",
   "execution_count": 19,
   "metadata": {},
   "outputs": [
    {
     "output_type": "execute_result",
     "data": {
      "text/plain": [
       "0       False\n",
       "1       False\n",
       "2       False\n",
       "3       False\n",
       "4       False\n",
       "        ...  \n",
       "4995    False\n",
       "4996    False\n",
       "4997    False\n",
       "4998    False\n",
       "4999    False\n",
       "Length: 5000, dtype: bool"
      ]
     },
     "metadata": {},
     "execution_count": 19
    }
   ],
   "source": [
    "# Check for duplicates that may affect our data.\n",
    "# By setting keep on False, all duplicates are True.\n",
    "\n",
    "ecars.duplicated(keep=False)\n",
    "# No duplicates found is the conclusion.\n",
    "# ecars[ecars.duplicated()]"
   ]
  },
  {
   "cell_type": "code",
   "execution_count": 20,
   "metadata": {},
   "outputs": [
    {
     "output_type": "stream",
     "name": "stdout",
     "text": [
      "<class 'pandas.core.frame.DataFrame'>\nRangeIndex: 5000 entries, 0 to 4999\nData columns (total 17 columns):\n #   Column               Non-Null Count  Dtype \n---  ------               --------------  ----- \n 0   Bluecar counter      5000 non-null   int64 \n 1   Utilib counter       5000 non-null   int64 \n 2   Utilib 1.4 counter   5000 non-null   int64 \n 3   Charge Slots         5000 non-null   int64 \n 4   Charging Status      5000 non-null   object\n 5   City                 5000 non-null   object\n 6   ID                   5000 non-null   object\n 7   Kind                 5000 non-null   object\n 8   Postal code          5000 non-null   int64 \n 9   Rental status        5000 non-null   object\n 10  Slots                5000 non-null   int64 \n 11  Station type         5000 non-null   object\n 12  Status               5000 non-null   object\n 13  Subscription status  5000 non-null   object\n 14  day                  5000 non-null   int64 \n 15  hour                 5000 non-null   int64 \n 16  minute               5000 non-null   int64 \ndtypes: int64(9), object(8)\nmemory usage: 664.2+ KB\n"
     ]
    }
   ],
   "source": [
    "#  We can also use the info function to see if all values are non-null\n",
    "ecars.info()"
   ]
  },
  {
   "source": [
    "## 5. Uniformity \n",
    "***\n",
    "Steps:\n",
    "* Renaming columns.\n",
    "* Standardization.\n",
    "* Filter operational stations.\n",
    "* Export data to csv"
   ],
   "cell_type": "markdown",
   "metadata": {}
  },
  {
   "source": [
    "# 1. Renaming columns\n",
    "# We will rename the Id column to suit our objectives as described\n",
    "# \n",
    "ecars = ecars.rename({'ID': 'Station name'}, axis='columns')\n",
    "ecars.columns\n"
   ],
   "cell_type": "code",
   "metadata": {},
   "execution_count": 21,
   "outputs": [
    {
     "output_type": "execute_result",
     "data": {
      "text/plain": [
       "Index(['Bluecar counter', 'Utilib counter', 'Utilib 1.4 counter',\n",
       "       'Charge Slots', 'Charging Status', 'City', 'Station name', 'Kind',\n",
       "       'Postal code', 'Rental status', 'Slots', 'Station type', 'Status',\n",
       "       'Subscription status', 'day', 'hour', 'minute'],\n",
       "      dtype='object')"
      ]
     },
     "metadata": {},
     "execution_count": 21
    }
   ]
  },
  {
   "cell_type": "code",
   "execution_count": 22,
   "metadata": {},
   "outputs": [
    {
     "output_type": "execute_result",
     "data": {
      "text/plain": [
       "   bluecar_counter  utilib_counter  utilib_1.4_counter  charge_slots  \\\n",
       "0                0               0                   0             0   \n",
       "\n",
       "  charging_status   city     station_name     kind  postal_code rental_status  \\\n",
       "0     nonexistent  Paris  paris-suffren-2  STATION        75015   operational   \n",
       "\n",
       "   slots station_type status subscription_status  day  hour  minute  \n",
       "0      2      station     ok         nonexistent    8    11      43  "
      ],
      "text/html": "<div>\n<style scoped>\n    .dataframe tbody tr th:only-of-type {\n        vertical-align: middle;\n    }\n\n    .dataframe tbody tr th {\n        vertical-align: top;\n    }\n\n    .dataframe thead th {\n        text-align: right;\n    }\n</style>\n<table border=\"1\" class=\"dataframe\">\n  <thead>\n    <tr style=\"text-align: right;\">\n      <th></th>\n      <th>bluecar_counter</th>\n      <th>utilib_counter</th>\n      <th>utilib_1.4_counter</th>\n      <th>charge_slots</th>\n      <th>charging_status</th>\n      <th>city</th>\n      <th>station_name</th>\n      <th>kind</th>\n      <th>postal_code</th>\n      <th>rental_status</th>\n      <th>slots</th>\n      <th>station_type</th>\n      <th>status</th>\n      <th>subscription_status</th>\n      <th>day</th>\n      <th>hour</th>\n      <th>minute</th>\n    </tr>\n  </thead>\n  <tbody>\n    <tr>\n      <th>0</th>\n      <td>0</td>\n      <td>0</td>\n      <td>0</td>\n      <td>0</td>\n      <td>nonexistent</td>\n      <td>Paris</td>\n      <td>paris-suffren-2</td>\n      <td>STATION</td>\n      <td>75015</td>\n      <td>operational</td>\n      <td>2</td>\n      <td>station</td>\n      <td>ok</td>\n      <td>nonexistent</td>\n      <td>8</td>\n      <td>11</td>\n      <td>43</td>\n    </tr>\n  </tbody>\n</table>\n</div>"
     },
     "metadata": {},
     "execution_count": 22
    }
   ],
   "source": [
    "# 2. Standardization - Fixing messy column names\n",
    "# Sometimes you might have column names which are uppercase, with spaces, \n",
    "# and whitespace all around. How do we fix this? \n",
    "# We use the .str method that we use on text data. \n",
    "# Ideally, we chain a bunch of .str functions as shown below; \n",
    "#\n",
    "\n",
    "# we use strip(), lower() and replace() functions\n",
    "# \n",
    "ecars.columns = ecars.columns.str.lower().str.strip().str.replace(' ', '_')\n",
    "ecars.head(1)"
   ]
  },
  {
   "cell_type": "code",
   "execution_count": 23,
   "metadata": {},
   "outputs": [
    {
     "output_type": "execute_result",
     "data": {
      "text/plain": [
       "    bluecar_counter  utilib_counter  utilib_1.4_counter  charge_slots  \\\n",
       "0                 0               0                   0             0   \n",
       "1                 6               0                   0             0   \n",
       "2                 3               0                   2             0   \n",
       "3                 3               1                   0             1   \n",
       "4                 3               0                   0             0   \n",
       "5                 0               0                   0             0   \n",
       "7                 3               1                   0             0   \n",
       "8                 1               0                   0             0   \n",
       "9                 6               0                   0             0   \n",
       "10                0               0                   0             2   \n",
       "\n",
       "   charging_status        city                       station_name     kind  \\\n",
       "0      nonexistent       Paris                    paris-suffren-2  STATION   \n",
       "1      operational       Paris         paris-raymondlosserand-145  STATION   \n",
       "2      operational  Le Bourget  lebourget-johnfitzgeraldkennedy-2  STATION   \n",
       "3      operational       Paris              paris-eugeneoudine-51  STATION   \n",
       "4      nonexistent       Paris          paris-portedechamperret-6  PARKING   \n",
       "5      nonexistent       Paris                   paris-voltaire-8  STATION   \n",
       "7      nonexistent    Nanterre                  nanterre-luaps-17  STATION   \n",
       "8      nonexistent       Paris                paris-jeanmoulin-34  STATION   \n",
       "9      nonexistent       Paris               paris-anvers-parking  PARKING   \n",
       "10     operational       Paris                   paris-censier-14  STATION   \n",
       "\n",
       "    postal_code rental_status  slots station_type status subscription_status  \\\n",
       "0         75015   operational      2      station     ok         nonexistent   \n",
       "1         75014   operational      0      station     ok         nonexistent   \n",
       "2         93350   operational      1      station     ok         nonexistent   \n",
       "3         75013   operational      2      station     ok         nonexistent   \n",
       "4         75017   operational      3      station     ok         nonexistent   \n",
       "5         75011   operational      4      station     ok         nonexistent   \n",
       "7         92000   operational      0      station     ok         nonexistent   \n",
       "8         75014   operational      4      station     ok         nonexistent   \n",
       "9         75009   operational      0      station     ok         nonexistent   \n",
       "10        75005   operational      6      station     ok         nonexistent   \n",
       "\n",
       "    day  hour  minute  \n",
       "0     8    11      43  \n",
       "1     6     7      24  \n",
       "2     3    20      14  \n",
       "3     4     4      37  \n",
       "4     8    17      23  \n",
       "5     6     7       2  \n",
       "7     4    22      13  \n",
       "8     2    22      58  \n",
       "9     4    15       2  \n",
       "10    1     4      39  "
      ],
      "text/html": "<div>\n<style scoped>\n    .dataframe tbody tr th:only-of-type {\n        vertical-align: middle;\n    }\n\n    .dataframe tbody tr th {\n        vertical-align: top;\n    }\n\n    .dataframe thead th {\n        text-align: right;\n    }\n</style>\n<table border=\"1\" class=\"dataframe\">\n  <thead>\n    <tr style=\"text-align: right;\">\n      <th></th>\n      <th>bluecar_counter</th>\n      <th>utilib_counter</th>\n      <th>utilib_1.4_counter</th>\n      <th>charge_slots</th>\n      <th>charging_status</th>\n      <th>city</th>\n      <th>station_name</th>\n      <th>kind</th>\n      <th>postal_code</th>\n      <th>rental_status</th>\n      <th>slots</th>\n      <th>station_type</th>\n      <th>status</th>\n      <th>subscription_status</th>\n      <th>day</th>\n      <th>hour</th>\n      <th>minute</th>\n    </tr>\n  </thead>\n  <tbody>\n    <tr>\n      <th>0</th>\n      <td>0</td>\n      <td>0</td>\n      <td>0</td>\n      <td>0</td>\n      <td>nonexistent</td>\n      <td>Paris</td>\n      <td>paris-suffren-2</td>\n      <td>STATION</td>\n      <td>75015</td>\n      <td>operational</td>\n      <td>2</td>\n      <td>station</td>\n      <td>ok</td>\n      <td>nonexistent</td>\n      <td>8</td>\n      <td>11</td>\n      <td>43</td>\n    </tr>\n    <tr>\n      <th>1</th>\n      <td>6</td>\n      <td>0</td>\n      <td>0</td>\n      <td>0</td>\n      <td>operational</td>\n      <td>Paris</td>\n      <td>paris-raymondlosserand-145</td>\n      <td>STATION</td>\n      <td>75014</td>\n      <td>operational</td>\n      <td>0</td>\n      <td>station</td>\n      <td>ok</td>\n      <td>nonexistent</td>\n      <td>6</td>\n      <td>7</td>\n      <td>24</td>\n    </tr>\n    <tr>\n      <th>2</th>\n      <td>3</td>\n      <td>0</td>\n      <td>2</td>\n      <td>0</td>\n      <td>operational</td>\n      <td>Le Bourget</td>\n      <td>lebourget-johnfitzgeraldkennedy-2</td>\n      <td>STATION</td>\n      <td>93350</td>\n      <td>operational</td>\n      <td>1</td>\n      <td>station</td>\n      <td>ok</td>\n      <td>nonexistent</td>\n      <td>3</td>\n      <td>20</td>\n      <td>14</td>\n    </tr>\n    <tr>\n      <th>3</th>\n      <td>3</td>\n      <td>1</td>\n      <td>0</td>\n      <td>1</td>\n      <td>operational</td>\n      <td>Paris</td>\n      <td>paris-eugeneoudine-51</td>\n      <td>STATION</td>\n      <td>75013</td>\n      <td>operational</td>\n      <td>2</td>\n      <td>station</td>\n      <td>ok</td>\n      <td>nonexistent</td>\n      <td>4</td>\n      <td>4</td>\n      <td>37</td>\n    </tr>\n    <tr>\n      <th>4</th>\n      <td>3</td>\n      <td>0</td>\n      <td>0</td>\n      <td>0</td>\n      <td>nonexistent</td>\n      <td>Paris</td>\n      <td>paris-portedechamperret-6</td>\n      <td>PARKING</td>\n      <td>75017</td>\n      <td>operational</td>\n      <td>3</td>\n      <td>station</td>\n      <td>ok</td>\n      <td>nonexistent</td>\n      <td>8</td>\n      <td>17</td>\n      <td>23</td>\n    </tr>\n    <tr>\n      <th>5</th>\n      <td>0</td>\n      <td>0</td>\n      <td>0</td>\n      <td>0</td>\n      <td>nonexistent</td>\n      <td>Paris</td>\n      <td>paris-voltaire-8</td>\n      <td>STATION</td>\n      <td>75011</td>\n      <td>operational</td>\n      <td>4</td>\n      <td>station</td>\n      <td>ok</td>\n      <td>nonexistent</td>\n      <td>6</td>\n      <td>7</td>\n      <td>2</td>\n    </tr>\n    <tr>\n      <th>7</th>\n      <td>3</td>\n      <td>1</td>\n      <td>0</td>\n      <td>0</td>\n      <td>nonexistent</td>\n      <td>Nanterre</td>\n      <td>nanterre-luaps-17</td>\n      <td>STATION</td>\n      <td>92000</td>\n      <td>operational</td>\n      <td>0</td>\n      <td>station</td>\n      <td>ok</td>\n      <td>nonexistent</td>\n      <td>4</td>\n      <td>22</td>\n      <td>13</td>\n    </tr>\n    <tr>\n      <th>8</th>\n      <td>1</td>\n      <td>0</td>\n      <td>0</td>\n      <td>0</td>\n      <td>nonexistent</td>\n      <td>Paris</td>\n      <td>paris-jeanmoulin-34</td>\n      <td>STATION</td>\n      <td>75014</td>\n      <td>operational</td>\n      <td>4</td>\n      <td>station</td>\n      <td>ok</td>\n      <td>nonexistent</td>\n      <td>2</td>\n      <td>22</td>\n      <td>58</td>\n    </tr>\n    <tr>\n      <th>9</th>\n      <td>6</td>\n      <td>0</td>\n      <td>0</td>\n      <td>0</td>\n      <td>nonexistent</td>\n      <td>Paris</td>\n      <td>paris-anvers-parking</td>\n      <td>PARKING</td>\n      <td>75009</td>\n      <td>operational</td>\n      <td>0</td>\n      <td>station</td>\n      <td>ok</td>\n      <td>nonexistent</td>\n      <td>4</td>\n      <td>15</td>\n      <td>2</td>\n    </tr>\n    <tr>\n      <th>10</th>\n      <td>0</td>\n      <td>0</td>\n      <td>0</td>\n      <td>2</td>\n      <td>operational</td>\n      <td>Paris</td>\n      <td>paris-censier-14</td>\n      <td>STATION</td>\n      <td>75005</td>\n      <td>operational</td>\n      <td>6</td>\n      <td>station</td>\n      <td>ok</td>\n      <td>nonexistent</td>\n      <td>1</td>\n      <td>4</td>\n      <td>39</td>\n    </tr>\n  </tbody>\n</table>\n</div>"
     },
     "metadata": {},
     "execution_count": 23
    }
   ],
   "source": [
    "# 3. Filter Operational stations\n",
    "# This is because Whether the station is operational for recharging. Mainly \"nonexistent\", \"operational\" or \"broken\": charge slots can only be greater than 0 when \"operational\"; slots and vehicles can be available in all situations (except future stations that have 0 resources)\n",
    "\n",
    "cleaned_ecars = ecars[ecars[\"rental_status\"].map(lambda values: \"operational\" in values)]\n",
    "cleaned_ecars.head(10)"
   ]
  },
  {
   "cell_type": "code",
   "execution_count": 24,
   "metadata": {},
   "outputs": [
    {
     "output_type": "stream",
     "name": "stdout",
     "text": [
      "<class 'pandas.core.frame.DataFrame'>\nInt64Index: 4618 entries, 0 to 4999\nData columns (total 17 columns):\n #   Column               Non-Null Count  Dtype \n---  ------               --------------  ----- \n 0   bluecar_counter      4618 non-null   int64 \n 1   utilib_counter       4618 non-null   int64 \n 2   utilib_1.4_counter   4618 non-null   int64 \n 3   charge_slots         4618 non-null   int64 \n 4   charging_status      4618 non-null   object\n 5   city                 4618 non-null   object\n 6   station_name         4618 non-null   object\n 7   kind                 4618 non-null   object\n 8   postal_code          4618 non-null   int64 \n 9   rental_status        4618 non-null   object\n 10  slots                4618 non-null   int64 \n 11  station_type         4618 non-null   object\n 12  status               4618 non-null   object\n 13  subscription_status  4618 non-null   object\n 14  day                  4618 non-null   int64 \n 15  hour                 4618 non-null   int64 \n 16  minute               4618 non-null   int64 \ndtypes: int64(9), object(8)\nmemory usage: 649.4+ KB\n\n\n"
     ]
    },
    {
     "output_type": "execute_result",
     "data": {
      "text/plain": [
       "78506"
      ]
     },
     "metadata": {},
     "execution_count": 24
    }
   ],
   "source": [
    "# check final data set info\n",
    "cleaned_ecars.info()\n",
    "print('\\n')\n",
    "cleaned_ecars.size"
   ]
  },
  {
   "cell_type": "code",
   "execution_count": 19,
   "metadata": {},
   "outputs": [],
   "source": [
    "#  Export our data set to a final csv.\n",
    "\n",
    "# export to finalproject\n",
    "\n",
    "finalproject = cleaned_ecars.to_csv('finalproject.csv')"
   ]
  },
  {
   "source": [
    "# Answering Questions using cleaned data.\n",
    "***"
   ],
   "cell_type": "markdown",
   "metadata": {}
  },
  {
   "source": [
    "## Research Question.\n",
    "*Identify the most popular hour of the day for picking up a shared electric car (Bluecar) in the city of Paris over the month of April 2018*"
   ],
   "cell_type": "markdown",
   "metadata": {}
  },
  {
   "cell_type": "code",
   "execution_count": 25,
   "metadata": {},
   "outputs": [
    {
     "output_type": "execute_result",
     "data": {
      "text/plain": [
       "   Unnamed: 0  bluecar_counter  utilib_counter  utilib_1.4_counter  \\\n",
       "0           0                0               0                   0   \n",
       "1           1                6               0                   0   \n",
       "2           2                3               0                   2   \n",
       "3           3                3               1                   0   \n",
       "4           4                3               0                   0   \n",
       "\n",
       "   charge_slots charging_status        city  \\\n",
       "0             0     nonexistent       Paris   \n",
       "1             0     operational       Paris   \n",
       "2             0     operational  Le Bourget   \n",
       "3             1     operational       Paris   \n",
       "4             0     nonexistent       Paris   \n",
       "\n",
       "                        station_name     kind  postal_code rental_status  \\\n",
       "0                    paris-suffren-2  STATION        75015   operational   \n",
       "1         paris-raymondlosserand-145  STATION        75014   operational   \n",
       "2  lebourget-johnfitzgeraldkennedy-2  STATION        93350   operational   \n",
       "3              paris-eugeneoudine-51  STATION        75013   operational   \n",
       "4          paris-portedechamperret-6  PARKING        75017   operational   \n",
       "\n",
       "   slots station_type status subscription_status  day  hour  minute  \n",
       "0      2      station     ok         nonexistent    8    11      43  \n",
       "1      0      station     ok         nonexistent    6     7      24  \n",
       "2      1      station     ok         nonexistent    3    20      14  \n",
       "3      2      station     ok         nonexistent    4     4      37  \n",
       "4      3      station     ok         nonexistent    8    17      23  "
      ],
      "text/html": "<div>\n<style scoped>\n    .dataframe tbody tr th:only-of-type {\n        vertical-align: middle;\n    }\n\n    .dataframe tbody tr th {\n        vertical-align: top;\n    }\n\n    .dataframe thead th {\n        text-align: right;\n    }\n</style>\n<table border=\"1\" class=\"dataframe\">\n  <thead>\n    <tr style=\"text-align: right;\">\n      <th></th>\n      <th>Unnamed: 0</th>\n      <th>bluecar_counter</th>\n      <th>utilib_counter</th>\n      <th>utilib_1.4_counter</th>\n      <th>charge_slots</th>\n      <th>charging_status</th>\n      <th>city</th>\n      <th>station_name</th>\n      <th>kind</th>\n      <th>postal_code</th>\n      <th>rental_status</th>\n      <th>slots</th>\n      <th>station_type</th>\n      <th>status</th>\n      <th>subscription_status</th>\n      <th>day</th>\n      <th>hour</th>\n      <th>minute</th>\n    </tr>\n  </thead>\n  <tbody>\n    <tr>\n      <th>0</th>\n      <td>0</td>\n      <td>0</td>\n      <td>0</td>\n      <td>0</td>\n      <td>0</td>\n      <td>nonexistent</td>\n      <td>Paris</td>\n      <td>paris-suffren-2</td>\n      <td>STATION</td>\n      <td>75015</td>\n      <td>operational</td>\n      <td>2</td>\n      <td>station</td>\n      <td>ok</td>\n      <td>nonexistent</td>\n      <td>8</td>\n      <td>11</td>\n      <td>43</td>\n    </tr>\n    <tr>\n      <th>1</th>\n      <td>1</td>\n      <td>6</td>\n      <td>0</td>\n      <td>0</td>\n      <td>0</td>\n      <td>operational</td>\n      <td>Paris</td>\n      <td>paris-raymondlosserand-145</td>\n      <td>STATION</td>\n      <td>75014</td>\n      <td>operational</td>\n      <td>0</td>\n      <td>station</td>\n      <td>ok</td>\n      <td>nonexistent</td>\n      <td>6</td>\n      <td>7</td>\n      <td>24</td>\n    </tr>\n    <tr>\n      <th>2</th>\n      <td>2</td>\n      <td>3</td>\n      <td>0</td>\n      <td>2</td>\n      <td>0</td>\n      <td>operational</td>\n      <td>Le Bourget</td>\n      <td>lebourget-johnfitzgeraldkennedy-2</td>\n      <td>STATION</td>\n      <td>93350</td>\n      <td>operational</td>\n      <td>1</td>\n      <td>station</td>\n      <td>ok</td>\n      <td>nonexistent</td>\n      <td>3</td>\n      <td>20</td>\n      <td>14</td>\n    </tr>\n    <tr>\n      <th>3</th>\n      <td>3</td>\n      <td>3</td>\n      <td>1</td>\n      <td>0</td>\n      <td>1</td>\n      <td>operational</td>\n      <td>Paris</td>\n      <td>paris-eugeneoudine-51</td>\n      <td>STATION</td>\n      <td>75013</td>\n      <td>operational</td>\n      <td>2</td>\n      <td>station</td>\n      <td>ok</td>\n      <td>nonexistent</td>\n      <td>4</td>\n      <td>4</td>\n      <td>37</td>\n    </tr>\n    <tr>\n      <th>4</th>\n      <td>4</td>\n      <td>3</td>\n      <td>0</td>\n      <td>0</td>\n      <td>0</td>\n      <td>nonexistent</td>\n      <td>Paris</td>\n      <td>paris-portedechamperret-6</td>\n      <td>PARKING</td>\n      <td>75017</td>\n      <td>operational</td>\n      <td>3</td>\n      <td>station</td>\n      <td>ok</td>\n      <td>nonexistent</td>\n      <td>8</td>\n      <td>17</td>\n      <td>23</td>\n    </tr>\n  </tbody>\n</table>\n</div>"
     },
     "metadata": {},
     "execution_count": 25
    }
   ],
   "source": [
    "# First we upload our cleaned data set.\n",
    "\n",
    "fecars = pd.read_csv('Data/finalproject.csv')\n",
    "fecars.head()"
   ]
  },
  {
   "cell_type": "code",
   "execution_count": 26,
   "metadata": {},
   "outputs": [
    {
     "output_type": "stream",
     "name": "stdout",
     "text": [
      "<class 'pandas.core.frame.DataFrame'>\nRangeIndex: 4618 entries, 0 to 4617\nData columns (total 18 columns):\n #   Column               Non-Null Count  Dtype \n---  ------               --------------  ----- \n 0   Unnamed: 0           4618 non-null   int64 \n 1   bluecar_counter      4618 non-null   int64 \n 2   utilib_counter       4618 non-null   int64 \n 3   utilib_1.4_counter   4618 non-null   int64 \n 4   charge_slots         4618 non-null   int64 \n 5   charging_status      4618 non-null   object\n 6   city                 4618 non-null   object\n 7   station_name         4618 non-null   object\n 8   kind                 4618 non-null   object\n 9   postal_code          4618 non-null   int64 \n 10  rental_status        4618 non-null   object\n 11  slots                4618 non-null   int64 \n 12  station_type         4618 non-null   object\n 13  status               4618 non-null   object\n 14  subscription_status  4618 non-null   object\n 15  day                  4618 non-null   int64 \n 16  hour                 4618 non-null   int64 \n 17  minute               4618 non-null   int64 \ndtypes: int64(10), object(8)\nmemory usage: 649.5+ KB\n"
     ]
    }
   ],
   "source": [
    "# Checking info incase of any changes and there were, so we can drop the unnamed columnn.\n",
    "fecars.info()\n"
   ]
  },
  {
   "cell_type": "code",
   "execution_count": 27,
   "metadata": {},
   "outputs": [
    {
     "output_type": "execute_result",
     "data": {
      "text/plain": [
       "Index(['bluecar_counter', 'utilib_counter', 'utilib_1.4_counter',\n",
       "       'charge_slots', 'charging_status', 'city', 'station_name', 'kind',\n",
       "       'postal_code', 'rental_status', 'slots', 'station_type', 'status',\n",
       "       'subscription_status', 'day', 'hour', 'minute'],\n",
       "      dtype='object')"
      ]
     },
     "metadata": {},
     "execution_count": 27
    }
   ],
   "source": [
    "fecars.drop(['Unnamed: 0'], axis=1, inplace=True)\n",
    "fecars.columns"
   ]
  },
  {
   "cell_type": "code",
   "execution_count": 28,
   "metadata": {},
   "outputs": [
    {
     "output_type": "execute_result",
     "data": {
      "text/plain": [
       "    bluecar_counter  utilib_counter  utilib_1.4_counter  charge_slots  \\\n",
       "0                 0               0                   0             0   \n",
       "1                 6               0                   0             0   \n",
       "3                 3               1                   0             1   \n",
       "4                 3               0                   0             0   \n",
       "5                 0               0                   0             0   \n",
       "7                 1               0                   0             0   \n",
       "8                 6               0                   0             0   \n",
       "9                 0               0                   0             2   \n",
       "11                5               1                   0             0   \n",
       "12                0               0                   0             0   \n",
       "13                0               0                   0             1   \n",
       "16                6               0                   0             0   \n",
       "17                5               0                   0             0   \n",
       "18                4               0                   2             0   \n",
       "19                3               0                   0             0   \n",
       "\n",
       "   charging_status   city                station_name     kind  postal_code  \\\n",
       "0      nonexistent  Paris             paris-suffren-2  STATION        75015   \n",
       "1      operational  Paris  paris-raymondlosserand-145  STATION        75014   \n",
       "3      operational  Paris       paris-eugeneoudine-51  STATION        75013   \n",
       "4      nonexistent  Paris   paris-portedechamperret-6  PARKING        75017   \n",
       "5      nonexistent  Paris            paris-voltaire-8  STATION        75011   \n",
       "7      nonexistent  Paris         paris-jeanmoulin-34  STATION        75014   \n",
       "8      nonexistent  Paris        paris-anvers-parking  PARKING        75009   \n",
       "9      operational  Paris            paris-censier-14  STATION        75005   \n",
       "11     nonexistent  Paris   paris-portedechamperret-6  PARKING        75017   \n",
       "12     nonexistent  Paris         paris-jeanmoulin-34  STATION        75014   \n",
       "13     operational  Paris       paris-richardlenoir-8  STATION        75011   \n",
       "16     operational  Paris          paris-voltaire-182  STATION        75011   \n",
       "17     nonexistent  Paris     paris-cambronne-parking  PARKING        75015   \n",
       "18     operational  Paris           paris-renecoty-11  STATION        75014   \n",
       "19     operational  Paris           paris-catalogne-2    SPACE        75014   \n",
       "\n",
       "   rental_status  slots  station_type status subscription_status  day  hour  \\\n",
       "0    operational      2       station     ok         nonexistent    8    11   \n",
       "1    operational      0       station     ok         nonexistent    6     7   \n",
       "3    operational      2       station     ok         nonexistent    4     4   \n",
       "4    operational      3       station     ok         nonexistent    8    17   \n",
       "5    operational      4       station     ok         nonexistent    6     7   \n",
       "7    operational      4       station     ok         nonexistent    2    22   \n",
       "8    operational      0       station     ok         nonexistent    4    15   \n",
       "9    operational      6       station     ok         nonexistent    1     4   \n",
       "11   operational      0       station     ok         nonexistent    5    12   \n",
       "12   operational      0       station     ok         nonexistent    8    21   \n",
       "13   operational      4       station     ok         nonexistent    6     8   \n",
       "16   operational      0       station     ok         nonexistent    9    12   \n",
       "17   operational      0       station     ok         nonexistent    9    20   \n",
       "18   operational      0       station     ok         nonexistent    9    21   \n",
       "19   operational      0  full_station     ok         operational    5     6   \n",
       "\n",
       "    minute  \n",
       "0       43  \n",
       "1       24  \n",
       "3       37  \n",
       "4       23  \n",
       "5        2  \n",
       "7       58  \n",
       "8        2  \n",
       "9       39  \n",
       "11      22  \n",
       "12      54  \n",
       "13       0  \n",
       "16      14  \n",
       "17      58  \n",
       "18      31  \n",
       "19      16  "
      ],
      "text/html": "<div>\n<style scoped>\n    .dataframe tbody tr th:only-of-type {\n        vertical-align: middle;\n    }\n\n    .dataframe tbody tr th {\n        vertical-align: top;\n    }\n\n    .dataframe thead th {\n        text-align: right;\n    }\n</style>\n<table border=\"1\" class=\"dataframe\">\n  <thead>\n    <tr style=\"text-align: right;\">\n      <th></th>\n      <th>bluecar_counter</th>\n      <th>utilib_counter</th>\n      <th>utilib_1.4_counter</th>\n      <th>charge_slots</th>\n      <th>charging_status</th>\n      <th>city</th>\n      <th>station_name</th>\n      <th>kind</th>\n      <th>postal_code</th>\n      <th>rental_status</th>\n      <th>slots</th>\n      <th>station_type</th>\n      <th>status</th>\n      <th>subscription_status</th>\n      <th>day</th>\n      <th>hour</th>\n      <th>minute</th>\n    </tr>\n  </thead>\n  <tbody>\n    <tr>\n      <th>0</th>\n      <td>0</td>\n      <td>0</td>\n      <td>0</td>\n      <td>0</td>\n      <td>nonexistent</td>\n      <td>Paris</td>\n      <td>paris-suffren-2</td>\n      <td>STATION</td>\n      <td>75015</td>\n      <td>operational</td>\n      <td>2</td>\n      <td>station</td>\n      <td>ok</td>\n      <td>nonexistent</td>\n      <td>8</td>\n      <td>11</td>\n      <td>43</td>\n    </tr>\n    <tr>\n      <th>1</th>\n      <td>6</td>\n      <td>0</td>\n      <td>0</td>\n      <td>0</td>\n      <td>operational</td>\n      <td>Paris</td>\n      <td>paris-raymondlosserand-145</td>\n      <td>STATION</td>\n      <td>75014</td>\n      <td>operational</td>\n      <td>0</td>\n      <td>station</td>\n      <td>ok</td>\n      <td>nonexistent</td>\n      <td>6</td>\n      <td>7</td>\n      <td>24</td>\n    </tr>\n    <tr>\n      <th>3</th>\n      <td>3</td>\n      <td>1</td>\n      <td>0</td>\n      <td>1</td>\n      <td>operational</td>\n      <td>Paris</td>\n      <td>paris-eugeneoudine-51</td>\n      <td>STATION</td>\n      <td>75013</td>\n      <td>operational</td>\n      <td>2</td>\n      <td>station</td>\n      <td>ok</td>\n      <td>nonexistent</td>\n      <td>4</td>\n      <td>4</td>\n      <td>37</td>\n    </tr>\n    <tr>\n      <th>4</th>\n      <td>3</td>\n      <td>0</td>\n      <td>0</td>\n      <td>0</td>\n      <td>nonexistent</td>\n      <td>Paris</td>\n      <td>paris-portedechamperret-6</td>\n      <td>PARKING</td>\n      <td>75017</td>\n      <td>operational</td>\n      <td>3</td>\n      <td>station</td>\n      <td>ok</td>\n      <td>nonexistent</td>\n      <td>8</td>\n      <td>17</td>\n      <td>23</td>\n    </tr>\n    <tr>\n      <th>5</th>\n      <td>0</td>\n      <td>0</td>\n      <td>0</td>\n      <td>0</td>\n      <td>nonexistent</td>\n      <td>Paris</td>\n      <td>paris-voltaire-8</td>\n      <td>STATION</td>\n      <td>75011</td>\n      <td>operational</td>\n      <td>4</td>\n      <td>station</td>\n      <td>ok</td>\n      <td>nonexistent</td>\n      <td>6</td>\n      <td>7</td>\n      <td>2</td>\n    </tr>\n    <tr>\n      <th>7</th>\n      <td>1</td>\n      <td>0</td>\n      <td>0</td>\n      <td>0</td>\n      <td>nonexistent</td>\n      <td>Paris</td>\n      <td>paris-jeanmoulin-34</td>\n      <td>STATION</td>\n      <td>75014</td>\n      <td>operational</td>\n      <td>4</td>\n      <td>station</td>\n      <td>ok</td>\n      <td>nonexistent</td>\n      <td>2</td>\n      <td>22</td>\n      <td>58</td>\n    </tr>\n    <tr>\n      <th>8</th>\n      <td>6</td>\n      <td>0</td>\n      <td>0</td>\n      <td>0</td>\n      <td>nonexistent</td>\n      <td>Paris</td>\n      <td>paris-anvers-parking</td>\n      <td>PARKING</td>\n      <td>75009</td>\n      <td>operational</td>\n      <td>0</td>\n      <td>station</td>\n      <td>ok</td>\n      <td>nonexistent</td>\n      <td>4</td>\n      <td>15</td>\n      <td>2</td>\n    </tr>\n    <tr>\n      <th>9</th>\n      <td>0</td>\n      <td>0</td>\n      <td>0</td>\n      <td>2</td>\n      <td>operational</td>\n      <td>Paris</td>\n      <td>paris-censier-14</td>\n      <td>STATION</td>\n      <td>75005</td>\n      <td>operational</td>\n      <td>6</td>\n      <td>station</td>\n      <td>ok</td>\n      <td>nonexistent</td>\n      <td>1</td>\n      <td>4</td>\n      <td>39</td>\n    </tr>\n    <tr>\n      <th>11</th>\n      <td>5</td>\n      <td>1</td>\n      <td>0</td>\n      <td>0</td>\n      <td>nonexistent</td>\n      <td>Paris</td>\n      <td>paris-portedechamperret-6</td>\n      <td>PARKING</td>\n      <td>75017</td>\n      <td>operational</td>\n      <td>0</td>\n      <td>station</td>\n      <td>ok</td>\n      <td>nonexistent</td>\n      <td>5</td>\n      <td>12</td>\n      <td>22</td>\n    </tr>\n    <tr>\n      <th>12</th>\n      <td>0</td>\n      <td>0</td>\n      <td>0</td>\n      <td>0</td>\n      <td>nonexistent</td>\n      <td>Paris</td>\n      <td>paris-jeanmoulin-34</td>\n      <td>STATION</td>\n      <td>75014</td>\n      <td>operational</td>\n      <td>0</td>\n      <td>station</td>\n      <td>ok</td>\n      <td>nonexistent</td>\n      <td>8</td>\n      <td>21</td>\n      <td>54</td>\n    </tr>\n    <tr>\n      <th>13</th>\n      <td>0</td>\n      <td>0</td>\n      <td>0</td>\n      <td>1</td>\n      <td>operational</td>\n      <td>Paris</td>\n      <td>paris-richardlenoir-8</td>\n      <td>STATION</td>\n      <td>75011</td>\n      <td>operational</td>\n      <td>4</td>\n      <td>station</td>\n      <td>ok</td>\n      <td>nonexistent</td>\n      <td>6</td>\n      <td>8</td>\n      <td>0</td>\n    </tr>\n    <tr>\n      <th>16</th>\n      <td>6</td>\n      <td>0</td>\n      <td>0</td>\n      <td>0</td>\n      <td>operational</td>\n      <td>Paris</td>\n      <td>paris-voltaire-182</td>\n      <td>STATION</td>\n      <td>75011</td>\n      <td>operational</td>\n      <td>0</td>\n      <td>station</td>\n      <td>ok</td>\n      <td>nonexistent</td>\n      <td>9</td>\n      <td>12</td>\n      <td>14</td>\n    </tr>\n    <tr>\n      <th>17</th>\n      <td>5</td>\n      <td>0</td>\n      <td>0</td>\n      <td>0</td>\n      <td>nonexistent</td>\n      <td>Paris</td>\n      <td>paris-cambronne-parking</td>\n      <td>PARKING</td>\n      <td>75015</td>\n      <td>operational</td>\n      <td>0</td>\n      <td>station</td>\n      <td>ok</td>\n      <td>nonexistent</td>\n      <td>9</td>\n      <td>20</td>\n      <td>58</td>\n    </tr>\n    <tr>\n      <th>18</th>\n      <td>4</td>\n      <td>0</td>\n      <td>2</td>\n      <td>0</td>\n      <td>operational</td>\n      <td>Paris</td>\n      <td>paris-renecoty-11</td>\n      <td>STATION</td>\n      <td>75014</td>\n      <td>operational</td>\n      <td>0</td>\n      <td>station</td>\n      <td>ok</td>\n      <td>nonexistent</td>\n      <td>9</td>\n      <td>21</td>\n      <td>31</td>\n    </tr>\n    <tr>\n      <th>19</th>\n      <td>3</td>\n      <td>0</td>\n      <td>0</td>\n      <td>0</td>\n      <td>operational</td>\n      <td>Paris</td>\n      <td>paris-catalogne-2</td>\n      <td>SPACE</td>\n      <td>75014</td>\n      <td>operational</td>\n      <td>0</td>\n      <td>full_station</td>\n      <td>ok</td>\n      <td>operational</td>\n      <td>5</td>\n      <td>6</td>\n      <td>16</td>\n    </tr>\n  </tbody>\n</table>\n</div>"
     },
     "metadata": {},
     "execution_count": 28
    }
   ],
   "source": [
    "# The question requires we get the city of paris.\n",
    "# Data points like year and month are ignored since we are looking at a dataset from the same month same year.\n",
    "#  In a span of 9 days.columns\n",
    "\n",
    "pariscars = fecars[fecars[\"city\"].map(lambda values: \"Paris\" in values)]\n",
    "pariscars.head(15)"
   ]
  },
  {
   "cell_type": "code",
   "execution_count": 29,
   "metadata": {},
   "outputs": [
    {
     "output_type": "execute_result",
     "data": {
      "text/plain": [
       "         station_name  day  hour  bluecar_counter  utilib_counter  \\\n",
       "0  paris-25aout1944-8    1    18                1               0   \n",
       "1  paris-25aout1944-8    2     7                4               0   \n",
       "2  paris-25aout1944-8    2    12                2               0   \n",
       "3  paris-25aout1944-8    4     3                3               0   \n",
       "4  paris-25aout1944-8    4    18                1               0   \n",
       "5  paris-25aout1944-8    7    21                1               0   \n",
       "6  paris-25aout1944-8    9     5                0               0   \n",
       "7  paris-25aout1944-8    9    20                1               0   \n",
       "8  paris-adolphemax-6    2    11                4               0   \n",
       "9  paris-adolphemax-6    7    16                0               0   \n",
       "\n",
       "   utilib_1.4_counter  charge_slots  postal_code  slots  minute  \n",
       "0                   0             0        75014      2      40  \n",
       "1                   0             0        75014      0      37  \n",
       "2                   0             0        75014      1      49  \n",
       "3                   0             0        75014      0      10  \n",
       "4                   0             0        75014      1      48  \n",
       "5                   1             0        75014      1      18  \n",
       "6                   0             0        75014      3      23  \n",
       "7                   1             0        75014      1      53  \n",
       "8                   0             0        75009      0       1  \n",
       "9                   0             0        75009      3      47  "
      ],
      "text/html": "<div>\n<style scoped>\n    .dataframe tbody tr th:only-of-type {\n        vertical-align: middle;\n    }\n\n    .dataframe tbody tr th {\n        vertical-align: top;\n    }\n\n    .dataframe thead th {\n        text-align: right;\n    }\n</style>\n<table border=\"1\" class=\"dataframe\">\n  <thead>\n    <tr style=\"text-align: right;\">\n      <th></th>\n      <th>station_name</th>\n      <th>day</th>\n      <th>hour</th>\n      <th>bluecar_counter</th>\n      <th>utilib_counter</th>\n      <th>utilib_1.4_counter</th>\n      <th>charge_slots</th>\n      <th>postal_code</th>\n      <th>slots</th>\n      <th>minute</th>\n    </tr>\n  </thead>\n  <tbody>\n    <tr>\n      <th>0</th>\n      <td>paris-25aout1944-8</td>\n      <td>1</td>\n      <td>18</td>\n      <td>1</td>\n      <td>0</td>\n      <td>0</td>\n      <td>0</td>\n      <td>75014</td>\n      <td>2</td>\n      <td>40</td>\n    </tr>\n    <tr>\n      <th>1</th>\n      <td>paris-25aout1944-8</td>\n      <td>2</td>\n      <td>7</td>\n      <td>4</td>\n      <td>0</td>\n      <td>0</td>\n      <td>0</td>\n      <td>75014</td>\n      <td>0</td>\n      <td>37</td>\n    </tr>\n    <tr>\n      <th>2</th>\n      <td>paris-25aout1944-8</td>\n      <td>2</td>\n      <td>12</td>\n      <td>2</td>\n      <td>0</td>\n      <td>0</td>\n      <td>0</td>\n      <td>75014</td>\n      <td>1</td>\n      <td>49</td>\n    </tr>\n    <tr>\n      <th>3</th>\n      <td>paris-25aout1944-8</td>\n      <td>4</td>\n      <td>3</td>\n      <td>3</td>\n      <td>0</td>\n      <td>0</td>\n      <td>0</td>\n      <td>75014</td>\n      <td>0</td>\n      <td>10</td>\n    </tr>\n    <tr>\n      <th>4</th>\n      <td>paris-25aout1944-8</td>\n      <td>4</td>\n      <td>18</td>\n      <td>1</td>\n      <td>0</td>\n      <td>0</td>\n      <td>0</td>\n      <td>75014</td>\n      <td>1</td>\n      <td>48</td>\n    </tr>\n    <tr>\n      <th>5</th>\n      <td>paris-25aout1944-8</td>\n      <td>7</td>\n      <td>21</td>\n      <td>1</td>\n      <td>0</td>\n      <td>1</td>\n      <td>0</td>\n      <td>75014</td>\n      <td>1</td>\n      <td>18</td>\n    </tr>\n    <tr>\n      <th>6</th>\n      <td>paris-25aout1944-8</td>\n      <td>9</td>\n      <td>5</td>\n      <td>0</td>\n      <td>0</td>\n      <td>0</td>\n      <td>0</td>\n      <td>75014</td>\n      <td>3</td>\n      <td>23</td>\n    </tr>\n    <tr>\n      <th>7</th>\n      <td>paris-25aout1944-8</td>\n      <td>9</td>\n      <td>20</td>\n      <td>1</td>\n      <td>0</td>\n      <td>1</td>\n      <td>0</td>\n      <td>75014</td>\n      <td>1</td>\n      <td>53</td>\n    </tr>\n    <tr>\n      <th>8</th>\n      <td>paris-adolphemax-6</td>\n      <td>2</td>\n      <td>11</td>\n      <td>4</td>\n      <td>0</td>\n      <td>0</td>\n      <td>0</td>\n      <td>75009</td>\n      <td>0</td>\n      <td>1</td>\n    </tr>\n    <tr>\n      <th>9</th>\n      <td>paris-adolphemax-6</td>\n      <td>7</td>\n      <td>16</td>\n      <td>0</td>\n      <td>0</td>\n      <td>0</td>\n      <td>0</td>\n      <td>75009</td>\n      <td>3</td>\n      <td>47</td>\n    </tr>\n  </tbody>\n</table>\n</div>"
     },
     "metadata": {},
     "execution_count": 29
    }
   ],
   "source": [
    "# The data needs to be grouped by station name and day\n",
    "# \n",
    "columns= ['station_name', 'hour', 'day']\n",
    "filt_paris = pariscars.groupby(['station_name','day', 'hour']).sum().reset_index()\n",
    "filt_paris.head(10)"
   ]
  },
  {
   "cell_type": "code",
   "execution_count": 30,
   "metadata": {},
   "outputs": [
    {
     "output_type": "execute_result",
     "data": {
      "text/plain": [
       "            station_name  day  hour  bluecar_counter  utilib_counter  \\\n",
       "0     paris-25aout1944-8    1    18                1               0   \n",
       "1     paris-25aout1944-8    2     7                4               0   \n",
       "2     paris-25aout1944-8    2    12                2               0   \n",
       "3     paris-25aout1944-8    4     3                3               0   \n",
       "4     paris-25aout1944-8    4    18                1               0   \n",
       "5     paris-25aout1944-8    7    21                1               0   \n",
       "6     paris-25aout1944-8    9     5                0               0   \n",
       "7     paris-25aout1944-8    9    20                1               0   \n",
       "8     paris-adolphemax-6    2    11                4               0   \n",
       "9     paris-adolphemax-6    7    16                0               0   \n",
       "10    paris-adolphemax-6    8    13                0               0   \n",
       "11  paris-adolphemille-8    1     1                1               0   \n",
       "12  paris-adolphemille-8    3    12                2               0   \n",
       "13  paris-adolphemille-8    3    21                4               0   \n",
       "14  paris-adolphemille-8    4    18                2               0   \n",
       "15  paris-adolphemille-8    8     1                0               0   \n",
       "16  paris-adolphemille-8    9     0                1               0   \n",
       "17   paris-adolpheyvon-6    1    20                4               0   \n",
       "18   paris-adolpheyvon-6    2    14                5               0   \n",
       "19   paris-adolpheyvon-6    2    19                5               0   \n",
       "\n",
       "    utilib_1.4_counter  charge_slots  postal_code  slots  minute  hire_rates  \n",
       "0                    0             0        75014      2      40         0.0  \n",
       "1                    0             0        75014      0      37         3.0  \n",
       "2                    0             0        75014      1      49        -2.0  \n",
       "3                    0             0        75014      0      10         1.0  \n",
       "4                    0             0        75014      1      48        -2.0  \n",
       "5                    1             0        75014      1      18         0.0  \n",
       "6                    0             0        75014      3      23        -1.0  \n",
       "7                    1             0        75014      1      53         1.0  \n",
       "8                    0             0        75009      0       1         0.0  \n",
       "9                    0             0        75009      3      47        -4.0  \n",
       "10                   0             0        75009      4      56         0.0  \n",
       "11                   0             0        75019      1      53         0.0  \n",
       "12                   0             0        75019      1      25         1.0  \n",
       "13                   0             0        75019      0      53         2.0  \n",
       "14                   1             0        75019      1      23        -2.0  \n",
       "15                   0             1        75019      4       2        -2.0  \n",
       "16                   0             2       150038      9      89         1.0  \n",
       "17                   0             1        75016      1      28         0.0  \n",
       "18                   0             0        75016      0      15         1.0  \n",
       "19                   0             0        75016      1      14         0.0  "
      ],
      "text/html": "<div>\n<style scoped>\n    .dataframe tbody tr th:only-of-type {\n        vertical-align: middle;\n    }\n\n    .dataframe tbody tr th {\n        vertical-align: top;\n    }\n\n    .dataframe thead th {\n        text-align: right;\n    }\n</style>\n<table border=\"1\" class=\"dataframe\">\n  <thead>\n    <tr style=\"text-align: right;\">\n      <th></th>\n      <th>station_name</th>\n      <th>day</th>\n      <th>hour</th>\n      <th>bluecar_counter</th>\n      <th>utilib_counter</th>\n      <th>utilib_1.4_counter</th>\n      <th>charge_slots</th>\n      <th>postal_code</th>\n      <th>slots</th>\n      <th>minute</th>\n      <th>hire_rates</th>\n    </tr>\n  </thead>\n  <tbody>\n    <tr>\n      <th>0</th>\n      <td>paris-25aout1944-8</td>\n      <td>1</td>\n      <td>18</td>\n      <td>1</td>\n      <td>0</td>\n      <td>0</td>\n      <td>0</td>\n      <td>75014</td>\n      <td>2</td>\n      <td>40</td>\n      <td>0.0</td>\n    </tr>\n    <tr>\n      <th>1</th>\n      <td>paris-25aout1944-8</td>\n      <td>2</td>\n      <td>7</td>\n      <td>4</td>\n      <td>0</td>\n      <td>0</td>\n      <td>0</td>\n      <td>75014</td>\n      <td>0</td>\n      <td>37</td>\n      <td>3.0</td>\n    </tr>\n    <tr>\n      <th>2</th>\n      <td>paris-25aout1944-8</td>\n      <td>2</td>\n      <td>12</td>\n      <td>2</td>\n      <td>0</td>\n      <td>0</td>\n      <td>0</td>\n      <td>75014</td>\n      <td>1</td>\n      <td>49</td>\n      <td>-2.0</td>\n    </tr>\n    <tr>\n      <th>3</th>\n      <td>paris-25aout1944-8</td>\n      <td>4</td>\n      <td>3</td>\n      <td>3</td>\n      <td>0</td>\n      <td>0</td>\n      <td>0</td>\n      <td>75014</td>\n      <td>0</td>\n      <td>10</td>\n      <td>1.0</td>\n    </tr>\n    <tr>\n      <th>4</th>\n      <td>paris-25aout1944-8</td>\n      <td>4</td>\n      <td>18</td>\n      <td>1</td>\n      <td>0</td>\n      <td>0</td>\n      <td>0</td>\n      <td>75014</td>\n      <td>1</td>\n      <td>48</td>\n      <td>-2.0</td>\n    </tr>\n    <tr>\n      <th>5</th>\n      <td>paris-25aout1944-8</td>\n      <td>7</td>\n      <td>21</td>\n      <td>1</td>\n      <td>0</td>\n      <td>1</td>\n      <td>0</td>\n      <td>75014</td>\n      <td>1</td>\n      <td>18</td>\n      <td>0.0</td>\n    </tr>\n    <tr>\n      <th>6</th>\n      <td>paris-25aout1944-8</td>\n      <td>9</td>\n      <td>5</td>\n      <td>0</td>\n      <td>0</td>\n      <td>0</td>\n      <td>0</td>\n      <td>75014</td>\n      <td>3</td>\n      <td>23</td>\n      <td>-1.0</td>\n    </tr>\n    <tr>\n      <th>7</th>\n      <td>paris-25aout1944-8</td>\n      <td>9</td>\n      <td>20</td>\n      <td>1</td>\n      <td>0</td>\n      <td>1</td>\n      <td>0</td>\n      <td>75014</td>\n      <td>1</td>\n      <td>53</td>\n      <td>1.0</td>\n    </tr>\n    <tr>\n      <th>8</th>\n      <td>paris-adolphemax-6</td>\n      <td>2</td>\n      <td>11</td>\n      <td>4</td>\n      <td>0</td>\n      <td>0</td>\n      <td>0</td>\n      <td>75009</td>\n      <td>0</td>\n      <td>1</td>\n      <td>0.0</td>\n    </tr>\n    <tr>\n      <th>9</th>\n      <td>paris-adolphemax-6</td>\n      <td>7</td>\n      <td>16</td>\n      <td>0</td>\n      <td>0</td>\n      <td>0</td>\n      <td>0</td>\n      <td>75009</td>\n      <td>3</td>\n      <td>47</td>\n      <td>-4.0</td>\n    </tr>\n    <tr>\n      <th>10</th>\n      <td>paris-adolphemax-6</td>\n      <td>8</td>\n      <td>13</td>\n      <td>0</td>\n      <td>0</td>\n      <td>0</td>\n      <td>0</td>\n      <td>75009</td>\n      <td>4</td>\n      <td>56</td>\n      <td>0.0</td>\n    </tr>\n    <tr>\n      <th>11</th>\n      <td>paris-adolphemille-8</td>\n      <td>1</td>\n      <td>1</td>\n      <td>1</td>\n      <td>0</td>\n      <td>0</td>\n      <td>0</td>\n      <td>75019</td>\n      <td>1</td>\n      <td>53</td>\n      <td>0.0</td>\n    </tr>\n    <tr>\n      <th>12</th>\n      <td>paris-adolphemille-8</td>\n      <td>3</td>\n      <td>12</td>\n      <td>2</td>\n      <td>0</td>\n      <td>0</td>\n      <td>0</td>\n      <td>75019</td>\n      <td>1</td>\n      <td>25</td>\n      <td>1.0</td>\n    </tr>\n    <tr>\n      <th>13</th>\n      <td>paris-adolphemille-8</td>\n      <td>3</td>\n      <td>21</td>\n      <td>4</td>\n      <td>0</td>\n      <td>0</td>\n      <td>0</td>\n      <td>75019</td>\n      <td>0</td>\n      <td>53</td>\n      <td>2.0</td>\n    </tr>\n    <tr>\n      <th>14</th>\n      <td>paris-adolphemille-8</td>\n      <td>4</td>\n      <td>18</td>\n      <td>2</td>\n      <td>0</td>\n      <td>1</td>\n      <td>0</td>\n      <td>75019</td>\n      <td>1</td>\n      <td>23</td>\n      <td>-2.0</td>\n    </tr>\n    <tr>\n      <th>15</th>\n      <td>paris-adolphemille-8</td>\n      <td>8</td>\n      <td>1</td>\n      <td>0</td>\n      <td>0</td>\n      <td>0</td>\n      <td>1</td>\n      <td>75019</td>\n      <td>4</td>\n      <td>2</td>\n      <td>-2.0</td>\n    </tr>\n    <tr>\n      <th>16</th>\n      <td>paris-adolphemille-8</td>\n      <td>9</td>\n      <td>0</td>\n      <td>1</td>\n      <td>0</td>\n      <td>0</td>\n      <td>2</td>\n      <td>150038</td>\n      <td>9</td>\n      <td>89</td>\n      <td>1.0</td>\n    </tr>\n    <tr>\n      <th>17</th>\n      <td>paris-adolpheyvon-6</td>\n      <td>1</td>\n      <td>20</td>\n      <td>4</td>\n      <td>0</td>\n      <td>0</td>\n      <td>1</td>\n      <td>75016</td>\n      <td>1</td>\n      <td>28</td>\n      <td>0.0</td>\n    </tr>\n    <tr>\n      <th>18</th>\n      <td>paris-adolpheyvon-6</td>\n      <td>2</td>\n      <td>14</td>\n      <td>5</td>\n      <td>0</td>\n      <td>0</td>\n      <td>0</td>\n      <td>75016</td>\n      <td>0</td>\n      <td>15</td>\n      <td>1.0</td>\n    </tr>\n    <tr>\n      <th>19</th>\n      <td>paris-adolpheyvon-6</td>\n      <td>2</td>\n      <td>19</td>\n      <td>5</td>\n      <td>0</td>\n      <td>0</td>\n      <td>0</td>\n      <td>75016</td>\n      <td>1</td>\n      <td>14</td>\n      <td>0.0</td>\n    </tr>\n  </tbody>\n</table>\n</div>"
     },
     "metadata": {},
     "execution_count": 30
    }
   ],
   "source": [
    "# The data did not contain any column with rented or returned cars so we have to formulate a counter.\n",
    "# diff() function calculates the difference of a DataFrame element compared with another \n",
    "#  +ve values mean returned -ve means picked\n",
    "\n",
    "filt_paris['hire_rates'] = filt_paris.groupby('station_name')['bluecar_counter'].diff().fillna(0)\n",
    "filt_paris.head(20)"
   ]
  },
  {
   "cell_type": "code",
   "execution_count": 31,
   "metadata": {},
   "outputs": [
    {
     "output_type": "execute_result",
     "data": {
      "text/plain": [
       "            station_name  day  hour  bluecar_counter  utilib_counter  \\\n",
       "2     paris-25aout1944-8    2    12                2               0   \n",
       "4     paris-25aout1944-8    4    18                1               0   \n",
       "6     paris-25aout1944-8    9     5                0               0   \n",
       "9     paris-adolphemax-6    7    16                0               0   \n",
       "14  paris-adolphemille-8    4    18                2               0   \n",
       "\n",
       "    utilib_1.4_counter  charge_slots  postal_code  slots  minute  hire_rates  \n",
       "2                    0             0        75014      1      49        -2.0  \n",
       "4                    0             0        75014      1      48        -2.0  \n",
       "6                    0             0        75014      3      23        -1.0  \n",
       "9                    0             0        75009      3      47        -4.0  \n",
       "14                   1             0        75019      1      23        -2.0  "
      ],
      "text/html": "<div>\n<style scoped>\n    .dataframe tbody tr th:only-of-type {\n        vertical-align: middle;\n    }\n\n    .dataframe tbody tr th {\n        vertical-align: top;\n    }\n\n    .dataframe thead th {\n        text-align: right;\n    }\n</style>\n<table border=\"1\" class=\"dataframe\">\n  <thead>\n    <tr style=\"text-align: right;\">\n      <th></th>\n      <th>station_name</th>\n      <th>day</th>\n      <th>hour</th>\n      <th>bluecar_counter</th>\n      <th>utilib_counter</th>\n      <th>utilib_1.4_counter</th>\n      <th>charge_slots</th>\n      <th>postal_code</th>\n      <th>slots</th>\n      <th>minute</th>\n      <th>hire_rates</th>\n    </tr>\n  </thead>\n  <tbody>\n    <tr>\n      <th>2</th>\n      <td>paris-25aout1944-8</td>\n      <td>2</td>\n      <td>12</td>\n      <td>2</td>\n      <td>0</td>\n      <td>0</td>\n      <td>0</td>\n      <td>75014</td>\n      <td>1</td>\n      <td>49</td>\n      <td>-2.0</td>\n    </tr>\n    <tr>\n      <th>4</th>\n      <td>paris-25aout1944-8</td>\n      <td>4</td>\n      <td>18</td>\n      <td>1</td>\n      <td>0</td>\n      <td>0</td>\n      <td>0</td>\n      <td>75014</td>\n      <td>1</td>\n      <td>48</td>\n      <td>-2.0</td>\n    </tr>\n    <tr>\n      <th>6</th>\n      <td>paris-25aout1944-8</td>\n      <td>9</td>\n      <td>5</td>\n      <td>0</td>\n      <td>0</td>\n      <td>0</td>\n      <td>0</td>\n      <td>75014</td>\n      <td>3</td>\n      <td>23</td>\n      <td>-1.0</td>\n    </tr>\n    <tr>\n      <th>9</th>\n      <td>paris-adolphemax-6</td>\n      <td>7</td>\n      <td>16</td>\n      <td>0</td>\n      <td>0</td>\n      <td>0</td>\n      <td>0</td>\n      <td>75009</td>\n      <td>3</td>\n      <td>47</td>\n      <td>-4.0</td>\n    </tr>\n    <tr>\n      <th>14</th>\n      <td>paris-adolphemille-8</td>\n      <td>4</td>\n      <td>18</td>\n      <td>2</td>\n      <td>0</td>\n      <td>1</td>\n      <td>0</td>\n      <td>75019</td>\n      <td>1</td>\n      <td>23</td>\n      <td>-2.0</td>\n    </tr>\n  </tbody>\n</table>\n</div>"
     },
     "metadata": {},
     "execution_count": 31
    }
   ],
   "source": [
    "#obtain -ve values meaning a car was picked\n",
    "\n",
    "\n",
    "hiredp = filt_paris[filt_paris['hire_rates'] < 0]\n",
    "hiredp.head()"
   ]
  },
  {
   "cell_type": "code",
   "execution_count": 32,
   "metadata": {},
   "outputs": [
    {
     "output_type": "execute_result",
     "data": {
      "text/plain": [
       "hour\n",
       "21   -112.0\n",
       "Name: hire_rates, dtype: float64"
      ]
     },
     "metadata": {},
     "execution_count": 32
    }
   ],
   "source": [
    "# Find the hour with highest frquency in regards to Paris only.\n",
    "# largest negative value means had high rates of picking\n",
    "hiredp['hire_rates'].sum()\n",
    "hiredp.groupby(['hour'])['hire_rates'].sum().sort_values().head(1)"
   ]
  },
  {
   "source": [
    "## Qestion 2.\n",
    "***\n",
    "*What is the most popular hour for returning cars?*"
   ],
   "cell_type": "markdown",
   "metadata": {}
  },
  {
   "cell_type": "code",
   "execution_count": 33,
   "metadata": {},
   "outputs": [
    {
     "output_type": "execute_result",
     "data": {
      "text/plain": [
       "                     station_name  day  hour  bluecar_counter  utilib_counter  \\\n",
       "0  alfortville-charlesdegaulle-16    1     0                2               0   \n",
       "1  alfortville-charlesdegaulle-16    1     1                4               0   \n",
       "2  alfortville-charlesdegaulle-16    3     4                3               0   \n",
       "3  alfortville-charlesdegaulle-16    3    22                4               0   \n",
       "4  alfortville-charlesdegaulle-16    4     3                6               0   \n",
       "\n",
       "   utilib_1.4_counter  charge_slots  postal_code  slots  minute  \n",
       "0                   0             0        94140      0      36  \n",
       "1                   0             0        94140      0      36  \n",
       "2                   0             0        94140      3       3  \n",
       "3                   0             0        94140      1      27  \n",
       "4                   0             0        94140      0      30  "
      ],
      "text/html": "<div>\n<style scoped>\n    .dataframe tbody tr th:only-of-type {\n        vertical-align: middle;\n    }\n\n    .dataframe tbody tr th {\n        vertical-align: top;\n    }\n\n    .dataframe thead th {\n        text-align: right;\n    }\n</style>\n<table border=\"1\" class=\"dataframe\">\n  <thead>\n    <tr style=\"text-align: right;\">\n      <th></th>\n      <th>station_name</th>\n      <th>day</th>\n      <th>hour</th>\n      <th>bluecar_counter</th>\n      <th>utilib_counter</th>\n      <th>utilib_1.4_counter</th>\n      <th>charge_slots</th>\n      <th>postal_code</th>\n      <th>slots</th>\n      <th>minute</th>\n    </tr>\n  </thead>\n  <tbody>\n    <tr>\n      <th>0</th>\n      <td>alfortville-charlesdegaulle-16</td>\n      <td>1</td>\n      <td>0</td>\n      <td>2</td>\n      <td>0</td>\n      <td>0</td>\n      <td>0</td>\n      <td>94140</td>\n      <td>0</td>\n      <td>36</td>\n    </tr>\n    <tr>\n      <th>1</th>\n      <td>alfortville-charlesdegaulle-16</td>\n      <td>1</td>\n      <td>1</td>\n      <td>4</td>\n      <td>0</td>\n      <td>0</td>\n      <td>0</td>\n      <td>94140</td>\n      <td>0</td>\n      <td>36</td>\n    </tr>\n    <tr>\n      <th>2</th>\n      <td>alfortville-charlesdegaulle-16</td>\n      <td>3</td>\n      <td>4</td>\n      <td>3</td>\n      <td>0</td>\n      <td>0</td>\n      <td>0</td>\n      <td>94140</td>\n      <td>3</td>\n      <td>3</td>\n    </tr>\n    <tr>\n      <th>3</th>\n      <td>alfortville-charlesdegaulle-16</td>\n      <td>3</td>\n      <td>22</td>\n      <td>4</td>\n      <td>0</td>\n      <td>0</td>\n      <td>0</td>\n      <td>94140</td>\n      <td>1</td>\n      <td>27</td>\n    </tr>\n    <tr>\n      <th>4</th>\n      <td>alfortville-charlesdegaulle-16</td>\n      <td>4</td>\n      <td>3</td>\n      <td>6</td>\n      <td>0</td>\n      <td>0</td>\n      <td>0</td>\n      <td>94140</td>\n      <td>0</td>\n      <td>30</td>\n    </tr>\n  </tbody>\n</table>\n</div>"
     },
     "metadata": {},
     "execution_count": 33
    }
   ],
   "source": [
    "# Here we get to filter our data frame to obtain returned cars.\n",
    "# Here we are looking for positive values in the hire rate.\n",
    "\n",
    "return_ecar = fecars.groupby(['station_name','day','hour']).sum().reset_index()\n",
    "return_ecar.head()\n",
    "\n"
   ]
  },
  {
   "cell_type": "code",
   "execution_count": 34,
   "metadata": {},
   "outputs": [
    {
     "output_type": "execute_result",
     "data": {
      "text/plain": [
       "                     station_name  day  hour  bluecar_counter  utilib_counter  \\\n",
       "0  alfortville-charlesdegaulle-16    1     0                2               0   \n",
       "1  alfortville-charlesdegaulle-16    1     1                4               0   \n",
       "2  alfortville-charlesdegaulle-16    3     4                3               0   \n",
       "3  alfortville-charlesdegaulle-16    3    22                4               0   \n",
       "4  alfortville-charlesdegaulle-16    4     3                6               0   \n",
       "\n",
       "   utilib_1.4_counter  charge_slots  postal_code  slots  minute  hire_rates  \n",
       "0                   0             0        94140      0      36         0.0  \n",
       "1                   0             0        94140      0      36         2.0  \n",
       "2                   0             0        94140      3       3        -1.0  \n",
       "3                   0             0        94140      1      27         1.0  \n",
       "4                   0             0        94140      0      30         2.0  "
      ],
      "text/html": "<div>\n<style scoped>\n    .dataframe tbody tr th:only-of-type {\n        vertical-align: middle;\n    }\n\n    .dataframe tbody tr th {\n        vertical-align: top;\n    }\n\n    .dataframe thead th {\n        text-align: right;\n    }\n</style>\n<table border=\"1\" class=\"dataframe\">\n  <thead>\n    <tr style=\"text-align: right;\">\n      <th></th>\n      <th>station_name</th>\n      <th>day</th>\n      <th>hour</th>\n      <th>bluecar_counter</th>\n      <th>utilib_counter</th>\n      <th>utilib_1.4_counter</th>\n      <th>charge_slots</th>\n      <th>postal_code</th>\n      <th>slots</th>\n      <th>minute</th>\n      <th>hire_rates</th>\n    </tr>\n  </thead>\n  <tbody>\n    <tr>\n      <th>0</th>\n      <td>alfortville-charlesdegaulle-16</td>\n      <td>1</td>\n      <td>0</td>\n      <td>2</td>\n      <td>0</td>\n      <td>0</td>\n      <td>0</td>\n      <td>94140</td>\n      <td>0</td>\n      <td>36</td>\n      <td>0.0</td>\n    </tr>\n    <tr>\n      <th>1</th>\n      <td>alfortville-charlesdegaulle-16</td>\n      <td>1</td>\n      <td>1</td>\n      <td>4</td>\n      <td>0</td>\n      <td>0</td>\n      <td>0</td>\n      <td>94140</td>\n      <td>0</td>\n      <td>36</td>\n      <td>2.0</td>\n    </tr>\n    <tr>\n      <th>2</th>\n      <td>alfortville-charlesdegaulle-16</td>\n      <td>3</td>\n      <td>4</td>\n      <td>3</td>\n      <td>0</td>\n      <td>0</td>\n      <td>0</td>\n      <td>94140</td>\n      <td>3</td>\n      <td>3</td>\n      <td>-1.0</td>\n    </tr>\n    <tr>\n      <th>3</th>\n      <td>alfortville-charlesdegaulle-16</td>\n      <td>3</td>\n      <td>22</td>\n      <td>4</td>\n      <td>0</td>\n      <td>0</td>\n      <td>0</td>\n      <td>94140</td>\n      <td>1</td>\n      <td>27</td>\n      <td>1.0</td>\n    </tr>\n    <tr>\n      <th>4</th>\n      <td>alfortville-charlesdegaulle-16</td>\n      <td>4</td>\n      <td>3</td>\n      <td>6</td>\n      <td>0</td>\n      <td>0</td>\n      <td>0</td>\n      <td>94140</td>\n      <td>0</td>\n      <td>30</td>\n      <td>2.0</td>\n    </tr>\n  </tbody>\n</table>\n</div>"
     },
     "metadata": {},
     "execution_count": 34
    }
   ],
   "source": [
    "#  +ve values mean returned\n",
    "# adding the hire rate column.\n",
    "return_ecar['hire_rates'] = return_ecar.groupby('station_name')['bluecar_counter'].diff().fillna(0)\n",
    "return_ecar.head()"
   ]
  },
  {
   "cell_type": "code",
   "execution_count": 35,
   "metadata": {},
   "outputs": [
    {
     "output_type": "execute_result",
     "data": {
      "text/plain": [
       "                        station_name  day  hour  bluecar_counter  \\\n",
       "1     alfortville-charlesdegaulle-16    1     1                4   \n",
       "3     alfortville-charlesdegaulle-16    3    22                4   \n",
       "4     alfortville-charlesdegaulle-16    4     3                6   \n",
       "6       alfortville-etiennedolet-174    6     7                4   \n",
       "10  alfortville-jeanbaptistepreux-17    7     8                4   \n",
       "\n",
       "    utilib_counter  utilib_1.4_counter  charge_slots  postal_code  slots  \\\n",
       "1                0                   0             0        94140      0   \n",
       "3                0                   0             0        94140      1   \n",
       "4                0                   0             0        94140      0   \n",
       "6                0                   0             0        94140      2   \n",
       "10               0                   0             0        94140      2   \n",
       "\n",
       "    minute  hire_rates  \n",
       "1       36         2.0  \n",
       "3       27         1.0  \n",
       "4       30         2.0  \n",
       "6       52         3.0  \n",
       "10      15         3.0  "
      ],
      "text/html": "<div>\n<style scoped>\n    .dataframe tbody tr th:only-of-type {\n        vertical-align: middle;\n    }\n\n    .dataframe tbody tr th {\n        vertical-align: top;\n    }\n\n    .dataframe thead th {\n        text-align: right;\n    }\n</style>\n<table border=\"1\" class=\"dataframe\">\n  <thead>\n    <tr style=\"text-align: right;\">\n      <th></th>\n      <th>station_name</th>\n      <th>day</th>\n      <th>hour</th>\n      <th>bluecar_counter</th>\n      <th>utilib_counter</th>\n      <th>utilib_1.4_counter</th>\n      <th>charge_slots</th>\n      <th>postal_code</th>\n      <th>slots</th>\n      <th>minute</th>\n      <th>hire_rates</th>\n    </tr>\n  </thead>\n  <tbody>\n    <tr>\n      <th>1</th>\n      <td>alfortville-charlesdegaulle-16</td>\n      <td>1</td>\n      <td>1</td>\n      <td>4</td>\n      <td>0</td>\n      <td>0</td>\n      <td>0</td>\n      <td>94140</td>\n      <td>0</td>\n      <td>36</td>\n      <td>2.0</td>\n    </tr>\n    <tr>\n      <th>3</th>\n      <td>alfortville-charlesdegaulle-16</td>\n      <td>3</td>\n      <td>22</td>\n      <td>4</td>\n      <td>0</td>\n      <td>0</td>\n      <td>0</td>\n      <td>94140</td>\n      <td>1</td>\n      <td>27</td>\n      <td>1.0</td>\n    </tr>\n    <tr>\n      <th>4</th>\n      <td>alfortville-charlesdegaulle-16</td>\n      <td>4</td>\n      <td>3</td>\n      <td>6</td>\n      <td>0</td>\n      <td>0</td>\n      <td>0</td>\n      <td>94140</td>\n      <td>0</td>\n      <td>30</td>\n      <td>2.0</td>\n    </tr>\n    <tr>\n      <th>6</th>\n      <td>alfortville-etiennedolet-174</td>\n      <td>6</td>\n      <td>7</td>\n      <td>4</td>\n      <td>0</td>\n      <td>0</td>\n      <td>0</td>\n      <td>94140</td>\n      <td>2</td>\n      <td>52</td>\n      <td>3.0</td>\n    </tr>\n    <tr>\n      <th>10</th>\n      <td>alfortville-jeanbaptistepreux-17</td>\n      <td>7</td>\n      <td>8</td>\n      <td>4</td>\n      <td>0</td>\n      <td>0</td>\n      <td>0</td>\n      <td>94140</td>\n      <td>2</td>\n      <td>15</td>\n      <td>3.0</td>\n    </tr>\n  </tbody>\n</table>\n</div>"
     },
     "metadata": {},
     "execution_count": 35
    }
   ],
   "source": [
    "# Filter out our returned cars.\n",
    "\n",
    "#  separate +ve to get returned\n",
    "return_ecar = return_ecar[return_ecar['hire_rates'] > 0]\n",
    "return_ecar.head()"
   ]
  },
  {
   "cell_type": "code",
   "execution_count": 36,
   "metadata": {},
   "outputs": [
    {
     "output_type": "execute_result",
     "data": {
      "text/plain": [
       "hour\n",
       "15    87.0\n",
       "Name: hire_rates, dtype: float64"
      ]
     },
     "metadata": {},
     "execution_count": 36
    }
   ],
   "source": [
    "# Getting the most popular return hour.ecars\n",
    "\n",
    "return_ecar['hire_rates'].sum()\n",
    "return_ecar.groupby(['hour'])['hire_rates'].sum().sort_values().head(1)"
   ]
  },
  {
   "source": [
    "## Question 3\n",
    "*What station is the most popular?\n",
    "Overall?\n",
    "At the most popular picking hour?*\n"
   ],
   "cell_type": "markdown",
   "metadata": {}
  },
  {
   "cell_type": "code",
   "execution_count": 37,
   "metadata": {},
   "outputs": [
    {
     "output_type": "execute_result",
     "data": {
      "text/plain": [
       "                     station_name  day  hour  bluecar_counter  utilib_counter  \\\n",
       "0  alfortville-charlesdegaulle-16    1     0                2               0   \n",
       "1  alfortville-charlesdegaulle-16    1     1                4               0   \n",
       "2  alfortville-charlesdegaulle-16    3     4                3               0   \n",
       "3  alfortville-charlesdegaulle-16    3    22                4               0   \n",
       "4  alfortville-charlesdegaulle-16    4     3                6               0   \n",
       "\n",
       "   utilib_1.4_counter  charge_slots  postal_code  slots  minute  \n",
       "0                   0             0        94140      0      36  \n",
       "1                   0             0        94140      0      36  \n",
       "2                   0             0        94140      3       3  \n",
       "3                   0             0        94140      1      27  \n",
       "4                   0             0        94140      0      30  "
      ],
      "text/html": "<div>\n<style scoped>\n    .dataframe tbody tr th:only-of-type {\n        vertical-align: middle;\n    }\n\n    .dataframe tbody tr th {\n        vertical-align: top;\n    }\n\n    .dataframe thead th {\n        text-align: right;\n    }\n</style>\n<table border=\"1\" class=\"dataframe\">\n  <thead>\n    <tr style=\"text-align: right;\">\n      <th></th>\n      <th>station_name</th>\n      <th>day</th>\n      <th>hour</th>\n      <th>bluecar_counter</th>\n      <th>utilib_counter</th>\n      <th>utilib_1.4_counter</th>\n      <th>charge_slots</th>\n      <th>postal_code</th>\n      <th>slots</th>\n      <th>minute</th>\n    </tr>\n  </thead>\n  <tbody>\n    <tr>\n      <th>0</th>\n      <td>alfortville-charlesdegaulle-16</td>\n      <td>1</td>\n      <td>0</td>\n      <td>2</td>\n      <td>0</td>\n      <td>0</td>\n      <td>0</td>\n      <td>94140</td>\n      <td>0</td>\n      <td>36</td>\n    </tr>\n    <tr>\n      <th>1</th>\n      <td>alfortville-charlesdegaulle-16</td>\n      <td>1</td>\n      <td>1</td>\n      <td>4</td>\n      <td>0</td>\n      <td>0</td>\n      <td>0</td>\n      <td>94140</td>\n      <td>0</td>\n      <td>36</td>\n    </tr>\n    <tr>\n      <th>2</th>\n      <td>alfortville-charlesdegaulle-16</td>\n      <td>3</td>\n      <td>4</td>\n      <td>3</td>\n      <td>0</td>\n      <td>0</td>\n      <td>0</td>\n      <td>94140</td>\n      <td>3</td>\n      <td>3</td>\n    </tr>\n    <tr>\n      <th>3</th>\n      <td>alfortville-charlesdegaulle-16</td>\n      <td>3</td>\n      <td>22</td>\n      <td>4</td>\n      <td>0</td>\n      <td>0</td>\n      <td>0</td>\n      <td>94140</td>\n      <td>1</td>\n      <td>27</td>\n    </tr>\n    <tr>\n      <th>4</th>\n      <td>alfortville-charlesdegaulle-16</td>\n      <td>4</td>\n      <td>3</td>\n      <td>6</td>\n      <td>0</td>\n      <td>0</td>\n      <td>0</td>\n      <td>94140</td>\n      <td>0</td>\n      <td>30</td>\n    </tr>\n  </tbody>\n</table>\n</div>"
     },
     "metadata": {},
     "execution_count": 37
    }
   ],
   "source": [
    "# Since the earlier picking hour was for Paris only. \n",
    "# We have to get popular picking hour for the overall data set.\n",
    "\n",
    "gen_ecars = fecars.groupby(['station_name','day','hour']).sum().reset_index()\n",
    "gen_ecars.head()"
   ]
  },
  {
   "cell_type": "code",
   "execution_count": 38,
   "metadata": {},
   "outputs": [
    {
     "output_type": "execute_result",
     "data": {
      "text/plain": [
       "                     station_name  day  hour  bluecar_counter  utilib_counter  \\\n",
       "0  alfortville-charlesdegaulle-16    1     0                2               0   \n",
       "1  alfortville-charlesdegaulle-16    1     1                4               0   \n",
       "2  alfortville-charlesdegaulle-16    3     4                3               0   \n",
       "3  alfortville-charlesdegaulle-16    3    22                4               0   \n",
       "4  alfortville-charlesdegaulle-16    4     3                6               0   \n",
       "\n",
       "   utilib_1.4_counter  charge_slots  postal_code  slots  minute  hire_rates  \n",
       "0                   0             0        94140      0      36         0.0  \n",
       "1                   0             0        94140      0      36         2.0  \n",
       "2                   0             0        94140      3       3        -1.0  \n",
       "3                   0             0        94140      1      27         1.0  \n",
       "4                   0             0        94140      0      30         2.0  "
      ],
      "text/html": "<div>\n<style scoped>\n    .dataframe tbody tr th:only-of-type {\n        vertical-align: middle;\n    }\n\n    .dataframe tbody tr th {\n        vertical-align: top;\n    }\n\n    .dataframe thead th {\n        text-align: right;\n    }\n</style>\n<table border=\"1\" class=\"dataframe\">\n  <thead>\n    <tr style=\"text-align: right;\">\n      <th></th>\n      <th>station_name</th>\n      <th>day</th>\n      <th>hour</th>\n      <th>bluecar_counter</th>\n      <th>utilib_counter</th>\n      <th>utilib_1.4_counter</th>\n      <th>charge_slots</th>\n      <th>postal_code</th>\n      <th>slots</th>\n      <th>minute</th>\n      <th>hire_rates</th>\n    </tr>\n  </thead>\n  <tbody>\n    <tr>\n      <th>0</th>\n      <td>alfortville-charlesdegaulle-16</td>\n      <td>1</td>\n      <td>0</td>\n      <td>2</td>\n      <td>0</td>\n      <td>0</td>\n      <td>0</td>\n      <td>94140</td>\n      <td>0</td>\n      <td>36</td>\n      <td>0.0</td>\n    </tr>\n    <tr>\n      <th>1</th>\n      <td>alfortville-charlesdegaulle-16</td>\n      <td>1</td>\n      <td>1</td>\n      <td>4</td>\n      <td>0</td>\n      <td>0</td>\n      <td>0</td>\n      <td>94140</td>\n      <td>0</td>\n      <td>36</td>\n      <td>2.0</td>\n    </tr>\n    <tr>\n      <th>2</th>\n      <td>alfortville-charlesdegaulle-16</td>\n      <td>3</td>\n      <td>4</td>\n      <td>3</td>\n      <td>0</td>\n      <td>0</td>\n      <td>0</td>\n      <td>94140</td>\n      <td>3</td>\n      <td>3</td>\n      <td>-1.0</td>\n    </tr>\n    <tr>\n      <th>3</th>\n      <td>alfortville-charlesdegaulle-16</td>\n      <td>3</td>\n      <td>22</td>\n      <td>4</td>\n      <td>0</td>\n      <td>0</td>\n      <td>0</td>\n      <td>94140</td>\n      <td>1</td>\n      <td>27</td>\n      <td>1.0</td>\n    </tr>\n    <tr>\n      <th>4</th>\n      <td>alfortville-charlesdegaulle-16</td>\n      <td>4</td>\n      <td>3</td>\n      <td>6</td>\n      <td>0</td>\n      <td>0</td>\n      <td>0</td>\n      <td>94140</td>\n      <td>0</td>\n      <td>30</td>\n      <td>2.0</td>\n    </tr>\n  </tbody>\n</table>\n</div>"
     },
     "metadata": {},
     "execution_count": 38
    }
   ],
   "source": [
    "# Getting the hire rates.\n",
    "\n",
    "#  Positive values mean returned and negative means picked\n",
    "\n",
    "gen_ecars['hire_rates'] = gen_ecars.groupby('station_name')['bluecar_counter'].diff().fillna(0)\n",
    "gen_ecars.head()"
   ]
  },
  {
   "cell_type": "code",
   "execution_count": 39,
   "metadata": {},
   "outputs": [
    {
     "output_type": "execute_result",
     "data": {
      "text/plain": [
       "station_name\n",
       "bagneux-leonblum-13      -8.0\n",
       "montreuil-vincennes-11   -7.0\n",
       "paris-courcelles-210     -6.0\n",
       "paris-beaugrenelle-4     -6.0\n",
       "paris-bercy-88           -6.0\n",
       "Name: hire_rates, dtype: float64"
      ]
     },
     "metadata": {},
     "execution_count": 39
    }
   ],
   "source": [
    "# First we get the most popular station overall.\n",
    "# \n",
    "gen_ecars.groupby(['station_name'])['hire_rates'].sum().sort_values().head()\n",
    "\n",
    "# Note that number with highest value whether postitive or negative means it is the most  popular.\n",
    "# In considerations to ignoring 0 values since they show no activity transipired.\n"
   ]
  },
  {
   "cell_type": "code",
   "execution_count": 40,
   "metadata": {},
   "outputs": [
    {
     "output_type": "execute_result",
     "data": {
      "text/plain": [
       "                        station_name  day  hour  bluecar_counter  \\\n",
       "2     alfortville-charlesdegaulle-16    3     4                3   \n",
       "8   alfortville-jeanbaptistepreux-17    2    23                2   \n",
       "9   alfortville-jeanbaptistepreux-17    4    20                1   \n",
       "13    alfortville-josephfranceschi-1    3    20                3   \n",
       "14    alfortville-josephfranceschi-1    4    11                0   \n",
       "\n",
       "    utilib_counter  utilib_1.4_counter  charge_slots  postal_code  slots  \\\n",
       "2                0                   0             0        94140      3   \n",
       "8                1                   0             0        94140      3   \n",
       "9                0                   0             0        94140      4   \n",
       "13               0                   0             0        94140      2   \n",
       "14               0                   0             0        94140      5   \n",
       "\n",
       "    minute  hire_rates  \n",
       "2        3        -1.0  \n",
       "8       47        -4.0  \n",
       "9       19        -1.0  \n",
       "13      54        -2.0  \n",
       "14      48        -3.0  "
      ],
      "text/html": "<div>\n<style scoped>\n    .dataframe tbody tr th:only-of-type {\n        vertical-align: middle;\n    }\n\n    .dataframe tbody tr th {\n        vertical-align: top;\n    }\n\n    .dataframe thead th {\n        text-align: right;\n    }\n</style>\n<table border=\"1\" class=\"dataframe\">\n  <thead>\n    <tr style=\"text-align: right;\">\n      <th></th>\n      <th>station_name</th>\n      <th>day</th>\n      <th>hour</th>\n      <th>bluecar_counter</th>\n      <th>utilib_counter</th>\n      <th>utilib_1.4_counter</th>\n      <th>charge_slots</th>\n      <th>postal_code</th>\n      <th>slots</th>\n      <th>minute</th>\n      <th>hire_rates</th>\n    </tr>\n  </thead>\n  <tbody>\n    <tr>\n      <th>2</th>\n      <td>alfortville-charlesdegaulle-16</td>\n      <td>3</td>\n      <td>4</td>\n      <td>3</td>\n      <td>0</td>\n      <td>0</td>\n      <td>0</td>\n      <td>94140</td>\n      <td>3</td>\n      <td>3</td>\n      <td>-1.0</td>\n    </tr>\n    <tr>\n      <th>8</th>\n      <td>alfortville-jeanbaptistepreux-17</td>\n      <td>2</td>\n      <td>23</td>\n      <td>2</td>\n      <td>1</td>\n      <td>0</td>\n      <td>0</td>\n      <td>94140</td>\n      <td>3</td>\n      <td>47</td>\n      <td>-4.0</td>\n    </tr>\n    <tr>\n      <th>9</th>\n      <td>alfortville-jeanbaptistepreux-17</td>\n      <td>4</td>\n      <td>20</td>\n      <td>1</td>\n      <td>0</td>\n      <td>0</td>\n      <td>0</td>\n      <td>94140</td>\n      <td>4</td>\n      <td>19</td>\n      <td>-1.0</td>\n    </tr>\n    <tr>\n      <th>13</th>\n      <td>alfortville-josephfranceschi-1</td>\n      <td>3</td>\n      <td>20</td>\n      <td>3</td>\n      <td>0</td>\n      <td>0</td>\n      <td>0</td>\n      <td>94140</td>\n      <td>2</td>\n      <td>54</td>\n      <td>-2.0</td>\n    </tr>\n    <tr>\n      <th>14</th>\n      <td>alfortville-josephfranceschi-1</td>\n      <td>4</td>\n      <td>11</td>\n      <td>0</td>\n      <td>0</td>\n      <td>0</td>\n      <td>0</td>\n      <td>94140</td>\n      <td>5</td>\n      <td>48</td>\n      <td>-3.0</td>\n    </tr>\n  </tbody>\n</table>\n</div>"
     },
     "metadata": {},
     "execution_count": 40
    }
   ],
   "source": [
    "#  Then we filter out our data set to get picked cars\n",
    "#  Filter out negative values.\n",
    "\n",
    "gen_ecars_picked = gen_ecars[gen_ecars['hire_rates'] < 0]\n",
    "gen_ecars_picked.head()"
   ]
  },
  {
   "cell_type": "code",
   "execution_count": 41,
   "metadata": {},
   "outputs": [
    {
     "output_type": "execute_result",
     "data": {
      "text/plain": [
       "hour\n",
       "21   -197.0\n",
       "Name: hire_rates, dtype: float64"
      ]
     },
     "metadata": {},
     "execution_count": 41
    }
   ],
   "source": [
    "# Now we can get most popular hour for picking cars.\n",
    "# Popular hour for picking cars is 21:00hrs\n",
    "gen_ecars_picked['hire_rates'].sum()\n",
    "gen_ecars_picked.groupby(['hour'])['hire_rates'].sum().sort_values().head(1)"
   ]
  },
  {
   "cell_type": "code",
   "execution_count": 42,
   "metadata": {},
   "outputs": [
    {
     "output_type": "execute_result",
     "data": {
      "text/plain": [
       "                     station_name  day  hour  bluecar_counter  utilib_counter  \\\n",
       "303  bourglareine-andretheuriet-1    9    21                2               0   \n",
       "318           cachan-pontroyal-24    6    21                2               0   \n",
       "321           cachan-saussaies-36    3    21                2               0   \n",
       "399           chatillon-verdun-76    2    21                2               0   \n",
       "447    clamart-portedetrivaux-130    5    21                5               0   \n",
       "\n",
       "     utilib_1.4_counter  charge_slots  postal_code  slots  minute  hire_rates  \n",
       "303                   0             0        92340      4      48        -2.0  \n",
       "318                   0             0        94230      3       1        -2.0  \n",
       "321                   0             0        94230      4       0        -1.0  \n",
       "399                   0             0        92320      3      12        -3.0  \n",
       "447                   0             0        92140      1      49        -1.0  "
      ],
      "text/html": "<div>\n<style scoped>\n    .dataframe tbody tr th:only-of-type {\n        vertical-align: middle;\n    }\n\n    .dataframe tbody tr th {\n        vertical-align: top;\n    }\n\n    .dataframe thead th {\n        text-align: right;\n    }\n</style>\n<table border=\"1\" class=\"dataframe\">\n  <thead>\n    <tr style=\"text-align: right;\">\n      <th></th>\n      <th>station_name</th>\n      <th>day</th>\n      <th>hour</th>\n      <th>bluecar_counter</th>\n      <th>utilib_counter</th>\n      <th>utilib_1.4_counter</th>\n      <th>charge_slots</th>\n      <th>postal_code</th>\n      <th>slots</th>\n      <th>minute</th>\n      <th>hire_rates</th>\n    </tr>\n  </thead>\n  <tbody>\n    <tr>\n      <th>303</th>\n      <td>bourglareine-andretheuriet-1</td>\n      <td>9</td>\n      <td>21</td>\n      <td>2</td>\n      <td>0</td>\n      <td>0</td>\n      <td>0</td>\n      <td>92340</td>\n      <td>4</td>\n      <td>48</td>\n      <td>-2.0</td>\n    </tr>\n    <tr>\n      <th>318</th>\n      <td>cachan-pontroyal-24</td>\n      <td>6</td>\n      <td>21</td>\n      <td>2</td>\n      <td>0</td>\n      <td>0</td>\n      <td>0</td>\n      <td>94230</td>\n      <td>3</td>\n      <td>1</td>\n      <td>-2.0</td>\n    </tr>\n    <tr>\n      <th>321</th>\n      <td>cachan-saussaies-36</td>\n      <td>3</td>\n      <td>21</td>\n      <td>2</td>\n      <td>0</td>\n      <td>0</td>\n      <td>0</td>\n      <td>94230</td>\n      <td>4</td>\n      <td>0</td>\n      <td>-1.0</td>\n    </tr>\n    <tr>\n      <th>399</th>\n      <td>chatillon-verdun-76</td>\n      <td>2</td>\n      <td>21</td>\n      <td>2</td>\n      <td>0</td>\n      <td>0</td>\n      <td>0</td>\n      <td>92320</td>\n      <td>3</td>\n      <td>12</td>\n      <td>-3.0</td>\n    </tr>\n    <tr>\n      <th>447</th>\n      <td>clamart-portedetrivaux-130</td>\n      <td>5</td>\n      <td>21</td>\n      <td>5</td>\n      <td>0</td>\n      <td>0</td>\n      <td>0</td>\n      <td>92140</td>\n      <td>1</td>\n      <td>49</td>\n      <td>-1.0</td>\n    </tr>\n  </tbody>\n</table>\n</div>"
     },
     "metadata": {},
     "execution_count": 42
    }
   ],
   "source": [
    "# Finfing most popular station at that hour.\n",
    "# filtering the data to get 21.\n",
    "pophr_21 = gen_ecars_picked[gen_ecars_picked[\"hour\"] ==  21]\n",
    "pophr_21.head()\n"
   ]
  },
  {
   "cell_type": "code",
   "execution_count": 43,
   "metadata": {},
   "outputs": [
    {
     "output_type": "execute_result",
     "data": {
      "text/plain": [
       "station_name\n",
       "paris-hopital-47   -6.0\n",
       "Name: hire_rates, dtype: float64"
      ]
     },
     "metadata": {},
     "execution_count": 43
    }
   ],
   "source": [
    "# Finding the station\n",
    "# \n",
    "pophr_21.groupby(['station_name'])['hire_rates'].sum().sort_values().head(1)"
   ]
  },
  {
   "source": [
    "## Question 4.\n",
    "*What postal code is the most popular for picking up Blue cars? Does the most popular station belong to that postal code?\n",
    "Overall?\n",
    "At the most popular picking hour?*\n"
   ],
   "cell_type": "markdown",
   "metadata": {}
  },
  {
   "cell_type": "code",
   "execution_count": 44,
   "metadata": {},
   "outputs": [
    {
     "output_type": "execute_result",
     "data": {
      "text/plain": [
       "postal_code\n",
       "75015   -176.0\n",
       "Name: hire_rates, dtype: float64"
      ]
     },
     "metadata": {},
     "execution_count": 44
    }
   ],
   "source": [
    "# Popular postal code for picking up blue cars?\n",
    "# Overall\n",
    "gen_ecars_picked.groupby(['postal_code'])['hire_rates'].sum().sort_values().head(1)"
   ]
  },
  {
   "cell_type": "code",
   "execution_count": 45,
   "metadata": {},
   "outputs": [
    {
     "output_type": "execute_result",
     "data": {
      "text/plain": [
       "          station_name  day  hour  bluecar_counter  utilib_counter  \\\n",
       "2520  paris-hopital-47    3    21                0               0   \n",
       "2523  paris-hopital-47    8    10                3               0   \n",
       "2524  paris-hopital-47    8    21                0               0   \n",
       "\n",
       "      utilib_1.4_counter  charge_slots  postal_code  slots  minute  hire_rates  \n",
       "2520                   0             0        75013      4      13        -3.0  \n",
       "2523                   1             0        75013      0      27        -2.0  \n",
       "2524                   0             0        75013      3      48        -3.0  "
      ],
      "text/html": "<div>\n<style scoped>\n    .dataframe tbody tr th:only-of-type {\n        vertical-align: middle;\n    }\n\n    .dataframe tbody tr th {\n        vertical-align: top;\n    }\n\n    .dataframe thead th {\n        text-align: right;\n    }\n</style>\n<table border=\"1\" class=\"dataframe\">\n  <thead>\n    <tr style=\"text-align: right;\">\n      <th></th>\n      <th>station_name</th>\n      <th>day</th>\n      <th>hour</th>\n      <th>bluecar_counter</th>\n      <th>utilib_counter</th>\n      <th>utilib_1.4_counter</th>\n      <th>charge_slots</th>\n      <th>postal_code</th>\n      <th>slots</th>\n      <th>minute</th>\n      <th>hire_rates</th>\n    </tr>\n  </thead>\n  <tbody>\n    <tr>\n      <th>2520</th>\n      <td>paris-hopital-47</td>\n      <td>3</td>\n      <td>21</td>\n      <td>0</td>\n      <td>0</td>\n      <td>0</td>\n      <td>0</td>\n      <td>75013</td>\n      <td>4</td>\n      <td>13</td>\n      <td>-3.0</td>\n    </tr>\n    <tr>\n      <th>2523</th>\n      <td>paris-hopital-47</td>\n      <td>8</td>\n      <td>10</td>\n      <td>3</td>\n      <td>0</td>\n      <td>1</td>\n      <td>0</td>\n      <td>75013</td>\n      <td>0</td>\n      <td>27</td>\n      <td>-2.0</td>\n    </tr>\n    <tr>\n      <th>2524</th>\n      <td>paris-hopital-47</td>\n      <td>8</td>\n      <td>21</td>\n      <td>0</td>\n      <td>0</td>\n      <td>0</td>\n      <td>0</td>\n      <td>75013</td>\n      <td>3</td>\n      <td>48</td>\n      <td>-3.0</td>\n    </tr>\n  </tbody>\n</table>\n</div>"
     },
     "metadata": {},
     "execution_count": 45
    }
   ],
   "source": [
    "# Does it match with the most popular station at picking hr?\n",
    "# No it does not.\n",
    "\n",
    "gen_ecars_picked.loc[gen_ecars['station_name'] == 'paris-hopital-47'].head()"
   ]
  },
  {
   "cell_type": "code",
   "execution_count": 46,
   "metadata": {},
   "outputs": [
    {
     "output_type": "execute_result",
     "data": {
      "text/plain": [
       "postal_code\n",
       "75013   -17.0\n",
       "Name: hire_rates, dtype: float64"
      ]
     },
     "metadata": {},
     "execution_count": 46
    }
   ],
   "source": [
    "# Popular postal code at popular picking hr.\n",
    "# \n",
    "pophr_21.groupby(['postal_code'])['hire_rates'].sum().sort_values().head(1)"
   ]
  },
  {
   "cell_type": "code",
   "execution_count": 47,
   "metadata": {},
   "outputs": [
    {
     "output_type": "execute_result",
     "data": {
      "text/plain": [
       "          station_name  day  hour  bluecar_counter  utilib_counter  \\\n",
       "2520  paris-hopital-47    3    21                0               0   \n",
       "2523  paris-hopital-47    8    10                3               0   \n",
       "2524  paris-hopital-47    8    21                0               0   \n",
       "\n",
       "      utilib_1.4_counter  charge_slots  postal_code  slots  minute  hire_rates  \n",
       "2520                   0             0        75013      4      13        -3.0  \n",
       "2523                   1             0        75013      0      27        -2.0  \n",
       "2524                   0             0        75013      3      48        -3.0  "
      ],
      "text/html": "<div>\n<style scoped>\n    .dataframe tbody tr th:only-of-type {\n        vertical-align: middle;\n    }\n\n    .dataframe tbody tr th {\n        vertical-align: top;\n    }\n\n    .dataframe thead th {\n        text-align: right;\n    }\n</style>\n<table border=\"1\" class=\"dataframe\">\n  <thead>\n    <tr style=\"text-align: right;\">\n      <th></th>\n      <th>station_name</th>\n      <th>day</th>\n      <th>hour</th>\n      <th>bluecar_counter</th>\n      <th>utilib_counter</th>\n      <th>utilib_1.4_counter</th>\n      <th>charge_slots</th>\n      <th>postal_code</th>\n      <th>slots</th>\n      <th>minute</th>\n      <th>hire_rates</th>\n    </tr>\n  </thead>\n  <tbody>\n    <tr>\n      <th>2520</th>\n      <td>paris-hopital-47</td>\n      <td>3</td>\n      <td>21</td>\n      <td>0</td>\n      <td>0</td>\n      <td>0</td>\n      <td>0</td>\n      <td>75013</td>\n      <td>4</td>\n      <td>13</td>\n      <td>-3.0</td>\n    </tr>\n    <tr>\n      <th>2523</th>\n      <td>paris-hopital-47</td>\n      <td>8</td>\n      <td>10</td>\n      <td>3</td>\n      <td>0</td>\n      <td>1</td>\n      <td>0</td>\n      <td>75013</td>\n      <td>0</td>\n      <td>27</td>\n      <td>-2.0</td>\n    </tr>\n    <tr>\n      <th>2524</th>\n      <td>paris-hopital-47</td>\n      <td>8</td>\n      <td>21</td>\n      <td>0</td>\n      <td>0</td>\n      <td>0</td>\n      <td>0</td>\n      <td>75013</td>\n      <td>3</td>\n      <td>48</td>\n      <td>-3.0</td>\n    </tr>\n  </tbody>\n</table>\n</div>"
     },
     "metadata": {},
     "execution_count": 47
    }
   ],
   "source": [
    "# Does it match with the most popular station at picking hr?\n",
    "# Yes,it does.\n",
    "\n",
    "gen_ecars_picked.loc[gen_ecars_picked['station_name'] == 'paris-hopital-47'].head()"
   ]
  },
  {
   "cell_type": "code",
   "execution_count": null,
   "metadata": {},
   "outputs": [],
   "source": []
  }
 ]
}